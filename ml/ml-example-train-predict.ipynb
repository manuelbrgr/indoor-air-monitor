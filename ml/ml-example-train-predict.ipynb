{
 "cells": [
  {
   "cell_type": "markdown",
   "metadata": {},
   "source": [
    "<p>\n",
    "Prepared by Vytautas Bielinskas. 2020. <br>\n",
    "Download data from: https://finance.yahoo.com/quote/GOOG/history/\n",
    "</p>\n",
    "\n",
    "<h2>PART 1. Data Pre-processing</h2>"
   ]
  },
  {
   "cell_type": "markdown",
   "metadata": {},
   "source": [
    "<h3>Step #0. Fire the system</h3>"
   ]
  },
  {
   "cell_type": "code",
   "execution_count": 1,
   "metadata": {
    "tags": []
   },
   "outputs": [],
   "source": [
    "# Import modules and packages\n",
    "import numpy as np\n",
    "import pandas as pd\n",
    "import matplotlib.pyplot as plt\n",
    "import datetime as dt\n",
    "from datetime import datetime\n",
    "\n",
    "import requests\n",
    "import io\n",
    "\n",
    "from keras.callbacks import EarlyStopping, ReduceLROnPlateau, ModelCheckpoint, TensorBoard\n",
    "\n",
    "%matplotlib inline"
   ]
  },
  {
   "cell_type": "markdown",
   "metadata": {},
   "source": [
    "<h3>Step #1. Read data</h3>"
   ]
  },
  {
   "cell_type": "code",
   "execution_count": 62,
   "metadata": {
    "tags": []
   },
   "outputs": [
    {
     "name": "stdout",
     "output_type": "stream",
     "text": [
      "                       timestamp  temperature  humidity  rtemperature  \\\n",
      "0       2022-05-03T16:12:37.532Z        20.28     46.05         20.13   \n",
      "1       2022-05-03T16:12:48.034Z        20.28     46.05         20.15   \n",
      "2       2022-05-03T16:12:58.566Z        20.28     46.05         20.15   \n",
      "3       2022-05-03T16:13:09.093Z        20.28     46.05         20.12   \n",
      "4       2022-05-03T16:13:19.613Z        20.28     46.05         20.13   \n",
      "...                          ...          ...       ...           ...   \n",
      "408279  2022-06-26T03:27:11.422Z        25.28     50.26         24.95   \n",
      "408280  2022-06-26T03:27:22.222Z        25.28     50.26         24.93   \n",
      "408281  2022-06-26T03:27:33.326Z        25.28     50.26         24.95   \n",
      "408282  2022-06-26T03:27:43.873Z        25.28     50.26         24.93   \n",
      "408283  2022-06-26T03:27:54.657Z        25.28     50.26         24.93   \n",
      "\n",
      "        rhumidity  pressure  temperature_outdoor  humidity_outdoor  \\\n",
      "0           45.06       950                20.14             41.83   \n",
      "1           45.06       950                20.14             41.83   \n",
      "2           45.09       950                20.14             41.83   \n",
      "3           45.10       950                20.14             41.83   \n",
      "4           45.07       950                20.14             41.83   \n",
      "...           ...       ...                  ...               ...   \n",
      "408279      51.07       952                21.40             60.20   \n",
      "408280      51.24       952                21.40             60.20   \n",
      "408281      51.21       952                21.40             60.20   \n",
      "408282      51.19       952                21.40             60.20   \n",
      "408283      51.03       952                21.40             60.20   \n",
      "\n",
      "        pressure_outdoor     co2  ...  pm2  pm10  tvoc  eco2  heating  \\\n",
      "0                    950  606.62  ...    7     7    18   426      0.0   \n",
      "1                    950  605.24  ...    9     9     8   423      0.0   \n",
      "2                    950  604.32  ...    9     9    31   455      0.0   \n",
      "3                    950  604.82  ...    9     9    35   459      0.0   \n",
      "4                    950  606.36  ...    9     9    37   445      0.0   \n",
      "...                  ...     ...  ...  ...   ...   ...   ...      ...   \n",
      "408279               951  540.28  ...   14    14  3045   614      0.0   \n",
      "408280               951  540.38  ...   14    14  3018   612      0.0   \n",
      "408281               951  540.83  ...   13    14  2992   602      0.0   \n",
      "408282               951  540.58  ...   13    14  3015   609      0.0   \n",
      "408283               951  539.78  ...   13    14  3004   617      0.0   \n",
      "\n",
      "        livingroom_door_open  livingroom_window_open  balcony_door_open  \\\n",
      "0                          0                       0                  0   \n",
      "1                          0                       0                  0   \n",
      "2                          0                       0                  0   \n",
      "3                          0                       0                  0   \n",
      "4                          0                       0                  0   \n",
      "...                      ...                     ...                ...   \n",
      "408279                     0                       0                  0   \n",
      "408280                     0                       0                  0   \n",
      "408281                     0                       0                  0   \n",
      "408282                     0                       0                  0   \n",
      "408283                     0                       0                  0   \n",
      "\n",
      "        kitchen_window_open                     __dt  \n",
      "0                         0  2022-05-03 00:00:00.000  \n",
      "1                         0  2022-05-03 00:00:00.000  \n",
      "2                         0  2022-05-03 00:00:00.000  \n",
      "3                         0  2022-05-03 00:00:00.000  \n",
      "4                         0  2022-05-03 00:00:00.000  \n",
      "...                     ...                      ...  \n",
      "408279                    1  2022-06-26 00:00:00.000  \n",
      "408280                    1  2022-06-26 00:00:00.000  \n",
      "408281                    1  2022-06-26 00:00:00.000  \n",
      "408282                    1  2022-06-26 00:00:00.000  \n",
      "408283                    1  2022-06-26 00:00:00.000  \n",
      "\n",
      "[408284 rows x 24 columns]\n",
      "Training set shape == (408284, 5)\n",
      "All timestamps == 408284\n",
      "Featured selected: ['co2', 'livingroom_window_open', 'livingroom_door_open', 'balcony_door_open', 'kitchen_window_open']\n",
      "<bound method NDFrame.tail of            co2  livingroom_window_open  livingroom_door_open  \\\n",
      "0       606.62                       0                     0   \n",
      "1       605.24                       0                     0   \n",
      "2       604.32                       0                     0   \n",
      "3       604.82                       0                     0   \n",
      "4       606.36                       0                     0   \n",
      "...        ...                     ...                   ...   \n",
      "408279  540.28                       0                     0   \n",
      "408280  540.38                       0                     0   \n",
      "408281  540.83                       0                     0   \n",
      "408282  540.58                       0                     0   \n",
      "408283  539.78                       0                     0   \n",
      "\n",
      "        balcony_door_open  kitchen_window_open  \n",
      "0                       0                    0  \n",
      "1                       0                    0  \n",
      "2                       0                    0  \n",
      "3                       0                    0  \n",
      "4                       0                    0  \n",
      "...                   ...                  ...  \n",
      "408279                  0                    1  \n",
      "408280                  0                    1  \n",
      "408281                  0                    1  \n",
      "408282                  0                    1  \n",
      "408283                  0                    1  \n",
      "\n",
      "[408284 rows x 5 columns]>\n"
     ]
    }
   ],
   "source": [
    "# Importing Training Set\n",
    "url=\"https://iaq-data.brgr.rocks/full.csv\"\n",
    "s=requests.get(url).content\n",
    "dataset_train = data=pd.read_csv(io.StringIO(s.decode('utf-8')))\n",
    "dataset_train.livingroom_window_open = dataset_train.livingroom_window_open.replace({True: 1, False: 0})\n",
    "dataset_train.livingroom_door_open = dataset_train.livingroom_window_open.replace({True: 1, False: 0})\n",
    "dataset_train.balcony_door_open = dataset_train.livingroom_door_open.replace({True: 1, False: 0})\n",
    "dataset_train.kitchen_window_open = dataset_train.kitchen_window_open.replace({True: 1, False: 0})\n",
    "\n",
    "# Extract dates (will be used in visualization)\n",
    "datelist_train = list(dataset_train['timestamp'])\n",
    "datelist_train = [dt.datetime.strptime(date, '%Y-%m-%dT%H:%M:%S.%fZ') for date in datelist_train]\n",
    "print(dataset_train)\n",
    "\n",
    "\n",
    "# Select features (columns) to be involved intro training and predictions\n",
    "cols = [\"co2\",\"livingroom_window_open\", \"livingroom_door_open\", \"balcony_door_open\", \"kitchen_window_open\"]\n",
    "dataset_train = dataset_train[cols]\n",
    "\n",
    "print('Training set shape == {}'.format(dataset_train.shape))\n",
    "print('All timestamps == {}'.format(len(datelist_train)))\n",
    "print('Featured selected: {}'.format(cols))\n",
    "print(dataset_train.tail)\n",
    "\n"
   ]
  },
  {
   "cell_type": "markdown",
   "metadata": {},
   "source": [
    "<h3>Step #2. Data pre-processing</h3>\n",
    "<p>\n",
    "Removing all commas and convert data to matrix shape format.\n",
    "</p>"
   ]
  },
  {
   "cell_type": "code",
   "execution_count": 19,
   "metadata": {
    "tags": []
   },
   "outputs": [
    {
     "name": "stdout",
     "output_type": "stream",
     "text": [
      "Shape of training set == (408284, 5).\n"
     ]
    },
    {
     "data": {
      "text/plain": [
       "array([[606.62,   0.  ,   0.  ,   0.  ,   0.  ],\n",
       "       [605.24,   0.  ,   0.  ,   0.  ,   0.  ],\n",
       "       [604.32,   0.  ,   0.  ,   0.  ,   0.  ],\n",
       "       ...,\n",
       "       [540.83,   0.  ,   0.  ,   0.  ,   1.  ],\n",
       "       [540.58,   0.  ,   0.  ,   0.  ,   1.  ],\n",
       "       [539.78,   0.  ,   0.  ,   0.  ,   1.  ]])"
      ]
     },
     "execution_count": 19,
     "metadata": {},
     "output_type": "execute_result"
    }
   ],
   "source": [
    "dataset_train = dataset_train[cols].astype(str)\n",
    "#for i in cols:\n",
    "#    for j in range(0, len(dataset_train)):\n",
    "#        dataset_train[i][j] = dataset_train[i][j].replace(',', '')\n",
    "\n",
    "dataset_train = dataset_train.astype(float)\n",
    "\n",
    "# Using multiple features (predictors)\n",
    "training_set = dataset_train.to_numpy()\n",
    "\n",
    "print('Shape of training set == {}.'.format(training_set.shape))\n",
    "training_set"
   ]
  },
  {
   "cell_type": "code",
   "execution_count": 20,
   "metadata": {
    "tags": []
   },
   "outputs": [
    {
     "data": {
      "text/plain": [
       "array([[-0.19316812],\n",
       "       [-0.19831466],\n",
       "       [-0.20174569],\n",
       "       ...,\n",
       "       [-0.43852405],\n",
       "       [-0.4394564 ],\n",
       "       [-0.4424399 ]])"
      ]
     },
     "execution_count": 20,
     "metadata": {},
     "output_type": "execute_result"
    }
   ],
   "source": [
    "# Feature Scaling\n",
    "from sklearn.preprocessing import StandardScaler\n",
    "\n",
    "sc = StandardScaler()\n",
    "training_set_scaled = sc.fit_transform(training_set)\n",
    "\n",
    "sc_predict = StandardScaler()\n",
    "sc_predict.fit_transform(training_set[:, 0:1])"
   ]
  },
  {
   "cell_type": "code",
   "execution_count": 81,
   "metadata": {
    "tags": []
   },
   "outputs": [
    {
     "name": "stdout",
     "output_type": "stream",
     "text": [
      "X_train shape == (408175, 20, 4).\n",
      "y_train shape == (408175, 1).\n"
     ]
    }
   ],
   "source": [
    "# Creating a data structure with 90 timestamps and 1 output\n",
    "X_train = []\n",
    "y_train = []\n",
    "\n",
    "n_future = 90   # Number of days we want top predict into the future\n",
    "n_past = 20     # Number of past days we want to use to predict the future\n",
    "\n",
    "for i in range(n_past, len(training_set_scaled) - n_future +1):\n",
    "    X_train.append(training_set_scaled[i - n_past:i, 0:dataset_train.shape[1] - 1])\n",
    "    y_train.append(training_set_scaled[i + n_future - 1:i + n_future, 0])\n",
    "\n",
    "X_train, y_train = np.array(X_train), np.array(y_train)\n",
    "\n",
    "print('X_train shape == {}.'.format(X_train.shape))\n",
    "print('y_train shape == {}.'.format(y_train.shape))"
   ]
  },
  {
   "cell_type": "markdown",
   "metadata": {},
   "source": [
    "<h2>PART 2. Create a model. Training</h2>"
   ]
  },
  {
   "cell_type": "markdown",
   "metadata": {},
   "source": [
    "<h3>Step #3. Building the LSTM based Neural Network</h3>"
   ]
  },
  {
   "cell_type": "code",
   "execution_count": 59,
   "metadata": {},
   "outputs": [],
   "source": [
    "# Import Libraries and packages from Keras\n",
    "from keras.models import Sequential\n",
    "from keras.layers import Dense\n",
    "from keras.layers import LSTM\n",
    "from keras.layers import Dropout\n",
    "from keras.optimizers import Adam\n",
    "\n",
    "import tensorflow as tf"
   ]
  },
  {
   "cell_type": "code",
   "execution_count": 68,
   "metadata": {
    "tags": []
   },
   "outputs": [],
   "source": [
    "model = tf.keras.models.Sequential()\n",
    "\n",
    "model.add(tf.keras.layers.LSTM(50, return_sequences=True))\n",
    "model.add(tf.keras.layers.LSTM(50, return_sequences=True))\n",
    "model.add(tf.keras.layers.LSTM(50))\n",
    "\n",
    "model.add(tf.keras.layers.Dense(500))\n",
    "\n",
    "model.add(tf.keras.layers.Dropout(0.2))\n",
    "\n",
    "model.add(tf.keras.layers.Dense(1))\n",
    "\n",
    "early_stop = tf.keras.callbacks.EarlyStopping(monitor='mse', patience=15)\n",
    "model.compile(optimizer='adam', loss='mse')"
   ]
  },
  {
   "cell_type": "markdown",
   "metadata": {},
   "source": [
    "<h3>Step #4. Start training</h3>"
   ]
  },
  {
   "cell_type": "code",
   "execution_count": 69,
   "metadata": {
    "tags": []
   },
   "outputs": [
    {
     "name": "stdout",
     "output_type": "stream",
     "text": [
      "12756/12756 [==============================] - 202s 15ms/step - loss: 0.1130\n"
     ]
    },
    {
     "name": "stderr",
     "output_type": "stream",
     "text": [
      "WARNING:absl:Found untraced functions such as lstm_cell_19_layer_call_fn, lstm_cell_19_layer_call_and_return_conditional_losses, lstm_cell_20_layer_call_fn, lstm_cell_20_layer_call_and_return_conditional_losses, lstm_cell_21_layer_call_fn while saving (showing 5 of 6). These functions will not be directly callable after loading.\n"
     ]
    },
    {
     "name": "stdout",
     "output_type": "stream",
     "text": [
      "INFO:tensorflow:Assets written to: model\\assets\n"
     ]
    },
    {
     "name": "stderr",
     "output_type": "stream",
     "text": [
      "INFO:tensorflow:Assets written to: model\\assets\n"
     ]
    }
   ],
   "source": [
    "history = model.fit(X_train, y_train, epochs=1)\n",
    "model.save('model')"
   ]
  },
  {
   "cell_type": "markdown",
   "metadata": {},
   "source": [
    "<p>\n",
    "Notes:<br>\n",
    "<ul>\n",
    "<li><b>EarlyStopping</b> - Stop training when a monitored metric has stopped improving.</li>\n",
    "<li><code>monitor</code> - quantity to be monitored.</li>\n",
    "<li><code>min_delta</code> - minimum change in the monitored quantity to qualify as an improvement, i.e. an absolute change of less than <code>min_delta</code>, will count as no improvement.</li>\n",
    "<li><code>patience</code> - number of epochs with no improvement after which training will be stopped.</li>\n",
    "</ul>\n",
    "\n",
    "<ul>\n",
    "<li><b>ReduceLROnPlateau</b> - Reduce learning rate when a metric has stopped improving.</li>\n",
    "<li><code>factor</code> - factor by which the learning rate will be reduced. <code>new_lr = lr * factor</code>.</li>\n",
    "</ul>\n",
    "</p>\n",
    "\n",
    "<hr>\n",
    "\n",
    "<p>\n",
    "The last date for our training set is <code>30-Dec-2016</code>.<br>\n",
    "</p>\n",
    "\n",
    "<p>\n",
    "We will perform predictions for the next <b>20</b> days, since <b>2017-01-01</b> to <b>2017-01-20</b>.\n",
    "</p>"
   ]
  },
  {
   "cell_type": "markdown",
   "metadata": {},
   "source": [
    "<h2>PART 3. Make future predictions</h2>"
   ]
  },
  {
   "cell_type": "code",
   "execution_count": 82,
   "metadata": {},
   "outputs": [],
   "source": [
    "n_future_new = 90000\n",
    "\n",
    "# Generate list of sequence of days for predictions\n",
    "datelist_future = pd.date_range(datelist_train[-1], periods=n_future_new, freq='10s').tolist()\n",
    "\n",
    "'''\n",
    "Remeber, we have datelist_train from begining.\n",
    "'''\n",
    "\n",
    "# Convert Pandas Timestamp to Datetime object (for transformation) --> FUTURE\n",
    "datelist_future_ = []\n",
    "for this_timestamp in datelist_future:\n",
    "    datelist_future_.append(this_timestamp.isoformat())\n"
   ]
  },
  {
   "cell_type": "markdown",
   "metadata": {},
   "source": [
    "<h3>Step #5. Make predictions for future dates</h3>"
   ]
  },
  {
   "cell_type": "code",
   "execution_count": 83,
   "metadata": {
    "tags": []
   },
   "outputs": [
    {
     "name": "stdout",
     "output_type": "stream",
     "text": [
      "2813/2813 [==============================] - 23s 8ms/step\n",
      "(408175, 20, 4)\n",
      "(90000, 1)\n",
      "12755/12755 [==============================] - 106s 8ms/step\n"
     ]
    }
   ],
   "source": [
    "\n",
    "# Perform predictions\n",
    "predictions_future = model.predict(X_train[-n_future_new:])\n",
    "print(X_train.shape)\n",
    "print(predictions_future.shape)\n",
    "\n",
    "predictions_train = model.predict(X_train[n_past:])"
   ]
  },
  {
   "cell_type": "code",
   "execution_count": 85,
   "metadata": {
    "tags": []
   },
   "outputs": [
    {
     "data": {
      "text/html": [
       "<div>\n",
       "<style scoped>\n",
       "    .dataframe tbody tr th:only-of-type {\n",
       "        vertical-align: middle;\n",
       "    }\n",
       "\n",
       "    .dataframe tbody tr th {\n",
       "        vertical-align: top;\n",
       "    }\n",
       "\n",
       "    .dataframe thead th {\n",
       "        text-align: right;\n",
       "    }\n",
       "</style>\n",
       "<table border=\"1\" class=\"dataframe\">\n",
       "  <thead>\n",
       "    <tr style=\"text-align: right;\">\n",
       "      <th></th>\n",
       "      <th>co2</th>\n",
       "    </tr>\n",
       "  </thead>\n",
       "  <tbody>\n",
       "    <tr>\n",
       "      <th>2022-05-03 16:35:14.354</th>\n",
       "      <td>660.789368</td>\n",
       "    </tr>\n",
       "    <tr>\n",
       "      <th>2022-05-03 16:35:24.847</th>\n",
       "      <td>661.331421</td>\n",
       "    </tr>\n",
       "    <tr>\n",
       "      <th>2022-05-03 16:35:35.311</th>\n",
       "      <td>663.685059</td>\n",
       "    </tr>\n",
       "  </tbody>\n",
       "</table>\n",
       "</div>"
      ],
      "text/plain": [
       "                                co2\n",
       "2022-05-03 16:35:14.354  660.789368\n",
       "2022-05-03 16:35:24.847  661.331421\n",
       "2022-05-03 16:35:35.311  663.685059"
      ]
     },
     "execution_count": 85,
     "metadata": {},
     "output_type": "execute_result"
    }
   ],
   "source": [
    "# Inverse the predictions to original measurements\n",
    "\n",
    "# ---> Special function: convert <datetime.date> to <Timestamp>\n",
    "def datetime_to_timestamp(x):\n",
    "    '''\n",
    "        x : a given datetime value (datetime.date)\n",
    "    '''\n",
    "    return datetime.strptime(x.strftime('%Y-%m-%dT%H:%M:%S.%f'), '%Y-%m-%dT%H:%M:%S.%f')\n",
    "\n",
    "\n",
    "y_pred_future = sc_predict.inverse_transform(predictions_future)\n",
    "y_pred_train = sc_predict.inverse_transform(predictions_train)\n",
    "\n",
    "PREDICTIONS_FUTURE = pd.DataFrame(y_pred_future, columns=['co2']).set_index(pd.Series(datelist_future))\n",
    "PREDICTION_TRAIN = pd.DataFrame(y_pred_train, columns=['co2']).set_index(pd.Series(datelist_train[2 * n_past + n_future -1:]))\n",
    "\n",
    "# Convert <datetime.date> to <Timestamp> for PREDCITION_TRAIN\n",
    "PREDICTION_TRAIN.index = PREDICTION_TRAIN.index.to_series().apply(datetime_to_timestamp)\n",
    "\n",
    "PREDICTION_TRAIN.head(3)"
   ]
  },
  {
   "cell_type": "markdown",
   "metadata": {},
   "source": [
    "<h3>Step #6. Visualize the Predictions</h3>"
   ]
  },
  {
   "cell_type": "code",
   "execution_count": 88,
   "metadata": {},
   "outputs": [
    {
     "data": {
      "image/png": "[encoded data removed]",
      "text/plain": [
       "<Figure size 1008x360 with 1 Axes>"
      ]
     },
     "metadata": {
      "needs_background": "light"
     },
     "output_type": "display_data"
    }
   ],
   "source": [
    "# Set plot size \n",
    "from pylab import rcParams\n",
    "rcParams['figure.figsize'] = 14, 5\n",
    "\n",
    "# Plot parameters\n",
    "START_DATE_FOR_PLOTTING = '2012-06-01'\n",
    "\n",
    "plt.plot(PREDICTIONS_FUTURE.index, PREDICTIONS_FUTURE['co2'], color='r', label='Predicted CO2')\n",
    "plt.plot(PREDICTION_TRAIN.loc[START_DATE_FOR_PLOTTING:].index, PREDICTION_TRAIN.loc[START_DATE_FOR_PLOTTING:]['co2'], color='orange', label='Training predictions')\n",
    "plt.plot(dataset_train.loc[START_DATE_FOR_PLOTTING:].index, dataset_train.loc[START_DATE_FOR_PLOTTING:]['co2'], color='b', label='Actual CO2')\n",
    "\n",
    "plt.axvline(x = min(PREDICTIONS_FUTURE.index), color='green', linewidth=2, linestyle='--')\n",
    "\n",
    "plt.grid(which='major', color='#cccccc', alpha=0.5)\n",
    "\n",
    "plt.legend(shadow=True)\n",
    "plt.title('Predcitions and Acutal Stock Prices', family='Arial', fontsize=12)\n",
    "plt.xlabel('Timeline', family='Arial', fontsize=10)\n",
    "plt.ylabel('Stock Price Value', family='Arial', fontsize=10)\n",
    "plt.xticks(rotation=45, fontsize=8)\n",
    "plt.show()"
   ]
  },
  {
   "cell_type": "code",
   "execution_count": null,
   "metadata": {},
   "outputs": [],
   "source": []
  },
  {
   "cell_type": "code",
   "execution_count": 87,
   "metadata": {
    "tags": []
   },
   "outputs": [],
   "source": [
    "# Parse training set timestamp for better visualization\n",
    "dataset_train = pd.DataFrame(dataset_train, columns=cols)\n",
    "dataset_train.index = datelist_train\n",
    "dataset_train.index = pd.to_datetime(dataset_train.index)"
   ]
  }
 ],
 "metadata": {
  "kernelspec": {
   "display_name": "Python 3.9.0 64-bit",
   "language": "python",
   "name": "python3"
  },
  "language_info": {
   "codemirror_mode": {
    "name": "ipython",
    "version": 3
   },
   "file_extension": ".py",
   "mimetype": "text/x-python",
   "name": "python",
   "nbconvert_exporter": "python",
   "pygments_lexer": "ipython3",
   "version": "3.9.0"
  },
  "orig_nbformat": 2,
  "vscode": {
   "interpreter": {
    "hash": "e020749b8c405a4242bdd3c61c5c07f9d41bc4ff046363bcb8007c696f34df4e"
   }
  }
 },
 "nbformat": 4,
 "nbformat_minor": 2
}
