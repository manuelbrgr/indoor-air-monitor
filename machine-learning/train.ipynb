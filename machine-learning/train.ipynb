{
 "cells": [
  {
   "cell_type": "code",
   "execution_count": 1,
   "metadata": {
    "pycharm": {
     "name": "#%%\n"
    }
   },
   "outputs": [
    {
     "name": "stderr",
     "output_type": "stream",
     "text": [
      "c:\\Users\\lunar\\AppData\\Local\\Programs\\Python\\Python39\\lib\\site-packages\\tqdm\\auto.py:22: TqdmWarning: IProgress not found. Please update jupyter and ipywidgets. See https://ipywidgets.readthedocs.io/en/stable/user_install.html\n",
      "  from .autonotebook import tqdm as notebook_tqdm\n"
     ]
    }
   ],
   "source": [
    "# fix python path if working locally\n",
    "from helpers import fix_pythonpath_if_working_locally\n",
    "\n",
    "fix_pythonpath_if_working_locally()\n",
    "\n",
    "import pandas as pd\n",
    "import numpy as np\n",
    "import torch\n",
    "import matplotlib.pyplot as plt\n",
    "\n",
    "from darts import TimeSeries\n",
    "from darts.utils.timeseries_generation import (\n",
    "    gaussian_timeseries,\n",
    "    linear_timeseries,\n",
    "    sine_timeseries,\n",
    ")\n",
    "from darts.models import (\n",
    "    RNNModel,\n",
    "    TCNModel,\n",
    "    TransformerModel,\n",
    "    NBEATSModel,\n",
    "    BlockRNNModel,\n",
    ")\n",
    "from darts.utils.missing_values import fill_missing_values\n",
    "from darts.metrics import mape, smape\n",
    "from darts.dataprocessing.transformers import Scaler\n",
    "from darts.utils.timeseries_generation import datetime_attribute_timeseries\n",
    "from darts.datasets import AirPassengersDataset, MonthlyMilkDataset\n",
    "\n",
    "import datetime as dt\n",
    "\n",
    "import requests\n",
    "import io\n",
    "\n",
    "# for reproducibility\n",
    "torch.manual_seed(1)\n",
    "np.random.seed(1)\n"
   ]
  },
  {
   "cell_type": "code",
   "execution_count": 2,
   "metadata": {
    "pycharm": {
     "name": "#%%\n"
    }
   },
   "outputs": [
    {
     "name": "stdout",
     "output_type": "stream",
     "text": [
      "<bound method NDFrame.tail of                  timestamp     co2  livingroom_window_open  \\\n",
      "0      2022-05-03 16:12:40  606.62                       0   \n",
      "1      2022-05-03 16:12:50  605.24                       0   \n",
      "2      2022-05-03 16:13:00  604.32                       0   \n",
      "3      2022-05-03 16:13:10  604.82                       0   \n",
      "4      2022-05-03 16:13:20  606.36                       0   \n",
      "...                    ...     ...                     ...   \n",
      "471123 2022-07-04 04:00:00  695.69                       1   \n",
      "471124 2022-07-04 04:00:10  696.29                       1   \n",
      "471125 2022-07-04 04:00:20  696.27                       1   \n",
      "471126 2022-07-04 04:00:30  696.56                       1   \n",
      "471127 2022-07-04 04:00:40  696.44                       1   \n",
      "\n",
      "        livingroom_door_open  balcony_door_open  kitchen_window_open  \n",
      "0                          0                  0                    0  \n",
      "1                          0                  0                    0  \n",
      "2                          0                  0                    0  \n",
      "3                          0                  0                    0  \n",
      "4                          0                  0                    0  \n",
      "...                      ...                ...                  ...  \n",
      "471123                     1                  1                    1  \n",
      "471124                     1                  1                    1  \n",
      "471125                     1                  1                    1  \n",
      "471126                     1                  1                    1  \n",
      "471127                     1                  1                    1  \n",
      "\n",
      "[470848 rows x 6 columns]>\n"
     ]
    }
   ],
   "source": [
    "# Importing Training Set\n",
    "def loadDataset(url):\n",
    "    s=requests.get(url).content\n",
    "    dataset = data=pd.read_csv(io.StringIO(s.decode('utf-8')))\n",
    "    dataset.livingroom_window_open = dataset.livingroom_window_open.replace({True: 1, False: 0})\n",
    "    dataset.livingroom_door_open = dataset.livingroom_window_open.replace({True: 1, False: 0})\n",
    "    dataset.balcony_door_open = dataset.livingroom_door_open.replace({True: 1, False: 0})\n",
    "    dataset.kitchen_window_open = dataset.kitchen_window_open.replace({True: 1, False: 0})\n",
    "    dataset.timestamp = pd.Series([dt.datetime.strptime(date, '%Y-%m-%dT%H:%M:%S.%fZ') for date in list(dataset['timestamp'])]).round(\"10S\")\n",
    "\n",
    "    # Select features (columns) to be involved intro training and predictions\n",
    "    cols = [\"timestamp\", \"co2\",\"livingroom_window_open\", \"livingroom_door_open\", \"balcony_door_open\", \"kitchen_window_open\"]\n",
    "    return dataset[cols].drop_duplicates(subset=['timestamp'], keep='last')\n",
    "\n",
    "dataset = loadDataset(\"https://iaq-data.brgr.rocks/full.csv\")\n",
    "print(dataset.tail)"
   ]
  },
  {
   "cell_type": "code",
   "execution_count": 3,
   "metadata": {
    "pycharm": {
     "name": "#%%\n"
    }
   },
   "outputs": [
    {
     "data": {
      "text/plain": [
       "<matplotlib.legend.Legend at 0x1299a1dc190>"
      ]
     },
     "execution_count": 3,
     "metadata": {},
     "output_type": "execute_result"
    },
    {
     "data": {
      "image/png": "[encoded data removed]",
      "text/plain": [
       "<Figure size 432x288 with 1 Axes>"
      ]
     },
     "metadata": {
      "needs_background": "light"
     },
     "output_type": "display_data"
    }
   ],
   "source": [
    "series_livingroom_door_open = TimeSeries.from_dataframe(dataset, 'timestamp', 'livingroom_door_open', fill_missing_dates=True, freq=\"10s\")\n",
    "series_balcony_door_open = TimeSeries.from_dataframe(dataset, 'timestamp', 'balcony_door_open', fill_missing_dates=True, freq=\"10s\")\n",
    "series_co2 = TimeSeries.from_dataframe(dataset, 'timestamp', 'co2', fill_missing_dates=True, freq=\"10s\" )\n",
    "series_livingroom_door_open = fill_missing_values(series_livingroom_door_open, fill='auto')\n",
    "series_balcony_door_open = fill_missing_values(series_livingroom_door_open, fill='auto')\n",
    "series_co2 = fill_missing_values(series_co2, fill='auto')\n",
    "\n",
    "series_co2.plot(label=\"CO2\")\n",
    "\n",
    "plt.legend()\n"
   ]
  },
  {
   "cell_type": "code",
   "execution_count": 4,
   "metadata": {
    "pycharm": {
     "name": "#%%\n"
    }
   },
   "outputs": [
    {
     "data": {
      "text/plain": [
       "<matplotlib.legend.Legend at 0x1299a1f16a0>"
      ]
     },
     "execution_count": 4,
     "metadata": {},
     "output_type": "execute_result"
    },
    {
     "data": {
      "image/png": "[encoded data removed]",
      "text/plain": [
       "<Figure size 432x288 with 1 Axes>"
      ]
     },
     "metadata": {
      "needs_background": "light"
     },
     "output_type": "display_data"
    }
   ],
   "source": [
    "scaler = Scaler()\n",
    "series_co2_scaled, series_livingroom_door_open_scaled, series_balcony_door_open_scaled = scaler.fit_transform([series_co2, series_livingroom_door_open, series_balcony_door_open])\n",
    "\n",
    "series_co2_scaled.plot(label=\"CO2\")\n",
    "plt.legend()"
   ]
  },
  {
   "cell_type": "code",
   "execution_count": 5,
   "metadata": {
    "pycharm": {
     "name": "#%%\n"
    }
   },
   "outputs": [
    {
     "name": "stdout",
     "output_type": "stream",
     "text": [
      "<TimeSeries (DataArray) (timestamp: 531253, component: 1, sample: 1)>\n",
      "array([[[0.07708268]],\n",
      "\n",
      "       [[0.07665974]],\n",
      "\n",
      "       [[0.07637778]],\n",
      "\n",
      "       ...,\n",
      "\n",
      "       [[0.10497232]],\n",
      "\n",
      "       [[0.10491103]],\n",
      "\n",
      "       [[0.10498458]]])\n",
      "Coordinates:\n",
      "  * timestamp  (timestamp) datetime64[ns] 2022-05-03T16:12:40 ... 2022-07-04T...\n",
      "  * component  (component) object 'co2'\n",
      "Dimensions without coordinates: sample\n",
      "Attributes:\n",
      "    static_covariates:  None\n",
      "    hierarchy:          None\n"
     ]
    }
   ],
   "source": [
    "train_co2 = series_co2_scaled[:-36]\n",
    "train_livingroom_door_open = series_livingroom_door_open_scaled[:-36]\n",
    "train_balcony_door_open = series_balcony_door_open_scaled[:-36]\n",
    "\n",
    "print(train_co2)"
   ]
  },
  {
   "cell_type": "code",
   "execution_count": 7,
   "metadata": {
    "pycharm": {
     "name": "#%%\n"
    }
   },
   "outputs": [],
   "source": [
    "model_co2 = BlockRNNModel(\n",
    "    model=\"LSTM\",\n",
    "    input_chunk_length=180,\n",
    "    output_chunk_length=180,\n",
    "    n_epochs=1,\n",
    "    random_state=0,\n",
    "    dropout=0.1,\n",
    "    model_name=\"LSTM\",\n",
    "    nr_epochs_val_period=1,\n",
    "    optimizer_kwargs={\"lr\": 1e-3},\n",
    "    log_tensorboard=True,\n",
    "    force_reset=True,\n",
    "\n",
    ")\n",
    "\n",
    "\n"
   ]
  },
  {
   "cell_type": "code",
   "execution_count": 9,
   "metadata": {
    "pycharm": {
     "name": "#%%\n"
    }
   },
   "outputs": [
    {
     "name": "stderr",
     "output_type": "stream",
     "text": [
      "2022-07-04 07:01:40 darts.models.forecasting.torch_forecasting_model INFO: Train dataset contains 530894 samples.\n",
      "2022-07-04 07:01:40 pytorch_lightning.utilities.rank_zero INFO: GPU available: True, used: False\n",
      "2022-07-04 07:01:40 pytorch_lightning.utilities.rank_zero INFO: TPU available: False, using: 0 TPU cores\n",
      "2022-07-04 07:01:40 pytorch_lightning.utilities.rank_zero INFO: IPU available: False, using: 0 IPUs\n",
      "2022-07-04 07:01:40 pytorch_lightning.utilities.rank_zero INFO: HPU available: False, using: 0 HPUs\n",
      "2022-07-04 07:01:40 pytorch_lightning.callbacks.model_summary INFO: \n",
      "  | Name          | Type             | Params\n",
      "---------------------------------------------------\n",
      "0 | criterion     | MSELoss          | 0     \n",
      "1 | train_metrics | MetricCollection | 0     \n",
      "2 | val_metrics   | MetricCollection | 0     \n",
      "3 | rnn           | LSTM             | 2.8 K \n",
      "4 | fc            | Sequential       | 4.7 K \n",
      "---------------------------------------------------\n",
      "7.5 K     Trainable params\n",
      "0         Non-trainable params\n",
      "7.5 K     Total params\n",
      "0.060     Total estimated model params size (MB)\n"
     ]
    },
    {
     "name": "stdout",
     "output_type": "stream",
     "text": [
      "Epoch 0:   0%|          | 82/16591 [00:06<21:48, 12.62it/s, loss=0.00079, train_loss=0.000299] 8]"
     ]
    },
    {
     "data": {
      "text/plain": [
       "<darts.models.forecasting.block_rnn_model.BlockRNNModel at 0x129ab93d8b0>"
      ]
     },
     "execution_count": 9,
     "metadata": {},
     "output_type": "execute_result"
    },
    {
     "name": "stdout",
     "output_type": "stream",
     "text": [
      "Epoch 0:   0%|          | 82/16591 [00:23<1:17:30,  3.55it/s, loss=0.00079, train_loss=0.000299]"
     ]
    }
   ],
   "source": [
    "model_co2.fit([train_co2, train_livingroom_door_open, train_balcony_door_open], verbose=True)\n",
    "\n"
   ]
  },
  {
   "cell_type": "code",
   "execution_count": 226,
   "metadata": {
    "pycharm": {
     "name": "#%%\n"
    }
   },
   "outputs": [],
   "source": [
    "dataset = loadDataset(\"https://iaq-data.brgr.rocks/day.csv\")\n",
    "\n",
    "series_livingroom_door_open = TimeSeries.from_dataframe(dataset, 'timestamp', 'livingroom_door_open', fill_missing_dates=True, freq=\"10s\")\n",
    "series_balcony_door_open = TimeSeries.from_dataframe(dataset, 'timestamp', 'balcony_door_open', fill_missing_dates=True, freq=\"10s\")\n",
    "series_co2 = TimeSeries.from_dataframe(dataset, 'timestamp', 'co2', fill_missing_dates=True, freq=\"10s\" )\n",
    "series_livingroom_door_open = fill_missing_values(series_livingroom_door_open, fill='auto')\n",
    "series_balcony_door_open = fill_missing_values(series_livingroom_door_open, fill='auto')\n",
    "series_co2 = fill_missing_values(series_co2, fill='auto')\n",
    "\n",
    "scaler = Scaler()\n",
    "series_co2_scaled, series_livingroom_door_open_scaled, series_balcony_door_open_scaled = scaler.fit_transform([series_co2, series_livingroom_door_open, series_balcony_door_open])\n",
    "\n",
    "series_co2_scaled.plot(label=\"CO2\")\n",
    "plt.legend()\n"
   ]
  },
  {
   "cell_type": "code",
   "execution_count": 225,
   "metadata": {
    "pycharm": {
     "name": "#%%\n"
    }
   },
   "outputs": [
    {
     "name": "stdout",
     "output_type": "stream",
     "text": [
      "Predicting DataLoader 0: 100%|██████████| 1/1 [00:00<00:00, -79274.42it/s]   \n"
     ]
    },
    {
     "data": {
      "text/plain": [
       "<matplotlib.legend.Legend at 0x16ff3c61880>"
      ]
     },
     "execution_count": 225,
     "metadata": {},
     "output_type": "execute_result"
    },
    {
     "data": {
      "image/png": "[encoded data removed]",
      "text/plain": [
       "<Figure size 432x288 with 1 Axes>"
      ]
     },
     "metadata": {
      "needs_background": "light"
     },
     "output_type": "display_data"
    }
   ],
   "source": [
    "\n",
    "position = 1200\n",
    "past = 900\n",
    "train_co2 = series_co2_scaled[-position:-(position-past)]\n",
    "train_livingroom_door_open = series_livingroom_door_open_scaled[-position:-(position-past)]\n",
    "train_balcony_door_open = series_balcony_door_open_scaled[-position:-(position-past)]\n",
    "\n",
    "actual_co2 = series_co2_scaled #[-position:-(position-90)]\n",
    "\n",
    "pred_list_scaled = model_co2.predict(n=past, series=[train_co2, train_livingroom_door_open, train_balcony_door_open])\n",
    "\n",
    "pred_list = scaler.inverse_transform(pred_list_scaled)\n",
    "series_air = scaler.inverse_transform(series_co2_scaled)\n",
    "series_actual = scaler.inverse_transform(actual_co2)\n",
    "\n",
    "series_actual.plot(label=\"actual\", color=\"green\")\n",
    "for series, label in zip(pred_list, [\"co2\"]):\n",
    "    series.plot(label=f\"forecast {label}\")\n",
    "plt.legend()\n"
   ]
  }
 ],
 "metadata": {
  "kernelspec": {
   "display_name": "Python 3.9.0 64-bit",
   "language": "python",
   "name": "python3"
  },
  "language_info": {
   "codemirror_mode": {
    "name": "ipython",
    "version": 3
   },
   "file_extension": ".py",
   "mimetype": "text/x-python",
   "name": "python",
   "nbconvert_exporter": "python",
   "pygments_lexer": "ipython3",
   "version": "3.9.0"
  },
  "orig_nbformat": 4,
  "vscode": {
   "interpreter": {
    "hash": "e020749b8c405a4242bdd3c61c5c07f9d41bc4ff046363bcb8007c696f34df4e"
   }
  }
 },
 "nbformat": 4,
 "nbformat_minor": 2
}