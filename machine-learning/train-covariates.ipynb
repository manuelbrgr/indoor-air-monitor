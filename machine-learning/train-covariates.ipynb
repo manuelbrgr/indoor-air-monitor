{
 "cells": [
  {
   "cell_type": "code",
   "execution_count": 1,
   "metadata": {
    "pycharm": {
     "name": "#%%\n"
    }
   },
   "outputs": [],
   "source": [
    "# fix python path if working locally\n",
    "from helpers import fix_pythonpath_if_working_locally\n",
    "fix_pythonpath_if_working_locally()\n",
    "\n",
    "import requests\n",
    "import io\n",
    "import pandas as pd\n",
    "import numpy as np\n",
    "import torch\n",
    "import matplotlib.pyplot as plt\n",
    "import datetime as dt\n",
    "\n",
    "from darts import TimeSeries\n",
    "from darts.models import (\n",
    "    BlockRNNModel,\n",
    ")\n",
    "from darts.utils.missing_values import fill_missing_values\n",
    "from darts.dataprocessing.transformers import Scaler\n",
    "\n",
    "# for reproducibility\n",
    "torch.manual_seed(1)\n",
    "np.random.seed(1)\n"
   ]
  },
  {
   "cell_type": "code",
   "execution_count": 7,
   "metadata": {
    "pycharm": {
     "name": "#%%\n"
    }
   },
   "outputs": [],
   "source": [
    "# Importing Training Set\n",
    "def loadDataset(url):\n",
    "    s=requests.get(url).content\n",
    "    dataset = data=pd.read_csv(io.StringIO(s.decode('utf-8')))\n",
    "    dataset.livingroom_window_open = dataset.livingroom_window_open.replace({True: 1, False: 0})\n",
    "    dataset.livingroom_door_open = dataset.livingroom_window_open.replace({True: 1, False: 0})\n",
    "    dataset.balcony_door_open = dataset.livingroom_door_open.replace({True: 1, False: 0})\n",
    "    dataset.kitchen_window_open = dataset.kitchen_window_open.replace({True: 1, False: 0})\n",
    "    dataset.timestamp = pd.Series([dt.datetime.strptime(date, '%Y-%m-%dT%H:%M:%S.%fZ') for date in list(dataset['timestamp'])]).round(\"10S\")\n",
    "\n",
    "    # Select features (columns) to be involved intro training and predictions\n",
    "    cols = [\"timestamp\", \"co2\", \"livingroom_window_open\", \"livingroom_door_open\", \"balcony_door_open\", \"kitchen_window_open\", \"rtemperature\", \"rhumidity\", \"temperature_outdoor\", \"humidity_outdoor\"]\n",
    "    return dataset[cols].drop_duplicates(subset=['timestamp'], keep='last')"
   ]
  },
  {
   "cell_type": "code",
   "execution_count": 8,
   "outputs": [
    {
     "name": "stdout",
     "output_type": "stream",
     "text": [
      "<bound method NDFrame.tail of                  timestamp      co2  livingroom_window_open  \\\n",
      "0      2022-05-03 16:12:40   606.62                       0   \n",
      "1      2022-05-03 16:12:50   605.24                       0   \n",
      "2      2022-05-03 16:13:00   604.32                       0   \n",
      "3      2022-05-03 16:13:10   604.82                       0   \n",
      "4      2022-05-03 16:13:20   606.36                       0   \n",
      "...                    ...      ...                     ...   \n",
      "503955 2022-07-08 03:59:40  1015.04                       0   \n",
      "503956 2022-07-08 03:59:50  1015.51                       0   \n",
      "503957 2022-07-08 04:00:00  1016.00                       0   \n",
      "503958 2022-07-08 04:00:10  1016.32                       0   \n",
      "503959 2022-07-08 04:00:20  1015.67                       0   \n",
      "\n",
      "        livingroom_door_open  balcony_door_open  kitchen_window_open  \\\n",
      "0                          0                  0                    0   \n",
      "1                          0                  0                    0   \n",
      "2                          0                  0                    0   \n",
      "3                          0                  0                    0   \n",
      "4                          0                  0                    0   \n",
      "...                      ...                ...                  ...   \n",
      "503955                     0                  0                    0   \n",
      "503956                     0                  0                    0   \n",
      "503957                     0                  0                    0   \n",
      "503958                     0                  0                    0   \n",
      "503959                     0                  0                    0   \n",
      "\n",
      "        rtemperature  rhumidity  temperature_outdoor  humidity_outdoor  \n",
      "0              20.13      45.06                20.14             41.83  \n",
      "1              20.15      45.06                20.14             41.83  \n",
      "2              20.15      45.09                20.14             41.83  \n",
      "3              20.12      45.10                20.14             41.83  \n",
      "4              20.13      45.07                20.14             41.83  \n",
      "...              ...        ...                  ...               ...  \n",
      "503955         23.55      51.73                15.79             76.31  \n",
      "503956         23.55      51.71                15.79             76.31  \n",
      "503957         23.53      51.79                15.79             76.31  \n",
      "503958         23.55      51.81                15.79             76.31  \n",
      "503959         23.55      51.70                15.79             76.31  \n",
      "\n",
      "[503438 rows x 10 columns]>\n"
     ]
    }
   ],
   "source": [
    "dataset = loadDataset(\"https://iaq-data.brgr.rocks/full.csv\")\n",
    "print(dataset.tail)"
   ],
   "metadata": {
    "collapsed": false,
    "pycharm": {
     "name": "#%%\n"
    }
   }
  },
  {
   "cell_type": "code",
   "execution_count": 9,
   "metadata": {
    "pycharm": {
     "name": "#%%\n"
    }
   },
   "outputs": [
    {
     "data": {
      "text/plain": "<matplotlib.legend.Legend at 0x15999a610>"
     },
     "execution_count": 9,
     "metadata": {},
     "output_type": "execute_result"
    },
    {
     "data": {
      "text/plain": "<Figure size 432x288 with 1 Axes>",
      "image/png": "[encoded data removed]"
     },
     "metadata": {
      "needs_background": "light"
     },
     "output_type": "display_data"
    }
   ],
   "source": [
    "# series to predict, in this case CO2\n",
    "series_co2 = fill_missing_values(TimeSeries.from_dataframe(dataset, 'timestamp', 'co2', fill_missing_dates=True, freq=\"10s\" ), fill='auto')\n",
    "\n",
    "# covariates to help predict the CO2 series\n",
    "covariates_livingroom_door_open = fill_missing_values(TimeSeries.from_dataframe(dataset, 'timestamp', 'livingroom_door_open', fill_missing_dates=True, freq=\"10s\"), fill='auto')\n",
    "covariates_balcony_door_open = fill_missing_values(TimeSeries.from_dataframe(dataset, 'timestamp', 'balcony_door_open', fill_missing_dates=True, freq=\"10s\"), fill='auto')\n",
    "covariates_livingroom_window_open = fill_missing_values(TimeSeries.from_dataframe(dataset, 'timestamp', 'livingroom_window_open', fill_missing_dates=True, freq=\"10s\"), fill='auto')\n",
    "covariates_kitchen_window_open = fill_missing_values(TimeSeries.from_dataframe(dataset, 'timestamp', 'kitchen_window_open', fill_missing_dates=True, freq=\"10s\"), fill='auto')\n",
    "covariates_temperature_indoors = fill_missing_values(TimeSeries.from_dataframe(dataset, 'timestamp', 'rtemperature', fill_missing_dates=True, freq=\"10s\"), fill='auto')\n",
    "covariates_humidity_indoors = fill_missing_values(TimeSeries.from_dataframe(dataset, 'timestamp', 'rhumidity', fill_missing_dates=True, freq=\"10s\"), fill='auto')\n",
    "covariates_temperature_outdoors = fill_missing_values(TimeSeries.from_dataframe(dataset, 'timestamp', 'temperature_outdoor', fill_missing_dates=True, freq=\"10s\"), fill='auto')\n",
    "covariates_humidity_outdoors = fill_missing_values(TimeSeries.from_dataframe(dataset, 'timestamp', 'humidity_outdoor', fill_missing_dates=True, freq=\"10s\"), fill='auto')\n",
    "\n",
    "\n",
    "series_co2.plot(label=\"CO2 in ppm\")\n",
    "plt.legend()"
   ]
  },
  {
   "cell_type": "code",
   "execution_count": 10,
   "metadata": {
    "pycharm": {
     "name": "#%%\n"
    }
   },
   "outputs": [],
   "source": [
    "scaler = Scaler()\n",
    "series_co2_scaled = scaler.fit_transform(series_co2)\n",
    "covariates_livingroom_door_open_scaled, covariates_balcony_door_open_scaled, covariates_livingroom_window_open_scaled, covariates_kitchen_window_open_scaled, covariates_temperature_indoors_scaled, covariates_humidity_indoors_scaled, covariates_temperature_outdoors_scaled, covariates_humidity_outdoors_scaled = scaler.fit_transform([covariates_livingroom_door_open, covariates_balcony_door_open, covariates_livingroom_window_open, covariates_kitchen_window_open, covariates_temperature_indoors, covariates_humidity_indoors, covariates_temperature_outdoors, covariates_humidity_outdoors])"
   ]
  },
  {
   "cell_type": "code",
   "execution_count": 29,
   "metadata": {
    "pycharm": {
     "name": "#%%\n"
    }
   },
   "outputs": [],
   "source": [
    "train_split = 30000\n",
    "\n",
    "# training data\n",
    "train_series_co2 = series_co2_scaled[:train_split]\n",
    "train_covariates_livingroom_door_open = covariates_balcony_door_open_scaled[:train_split]\n",
    "train_covariates_balcony_door_open = covariates_balcony_door_open_scaled[:train_split]\n",
    "train_covariates_livingroom_window_open = covariates_livingroom_window_open_scaled[:train_split]\n",
    "train_covariates_kitchen_window_open = covariates_kitchen_window_open_scaled[:train_split]\n",
    "train_covariates_temperature_indoors = covariates_temperature_indoors_scaled[:train_split]\n",
    "train_covariates_humidity_indoors = covariates_humidity_indoors_scaled[:train_split]\n",
    "train_covariates_temperature_outdoors = covariates_temperature_outdoors_scaled[:train_split]\n",
    "train_covariates_humidity_outdoors = covariates_humidity_outdoors_scaled[:train_split]\n",
    "train_covariants = train_covariates_livingroom_door_open.stack(train_covariates_balcony_door_open).stack(train_covariates_livingroom_window_open).stack(train_covariates_kitchen_window_open).stack(train_covariates_temperature_indoors).stack(train_covariates_humidity_indoors).stack(train_covariates_temperature_outdoors).stack(train_covariates_humidity_outdoors)\n",
    "\n",
    "# test data\n",
    "test_series_co2 = series_co2_scaled[-train_split:]\n",
    "test_covariates_livingroom_door_open = covariates_balcony_door_open_scaled[-train_split:]\n",
    "test_covariates_balcony_door_open = covariates_balcony_door_open_scaled[-train_split:]\n",
    "test_covariates_livingroom_window_open = covariates_livingroom_window_open_scaled[-train_split:]\n",
    "test_covariates_kitchen_window_open = covariates_kitchen_window_open_scaled[-train_split:]\n",
    "test_covariates_temperature_indoors = covariates_temperature_indoors_scaled[-train_split:]\n",
    "test_covariates_humidity_indoors = covariates_humidity_indoors_scaled[-train_split:]\n",
    "test_covariates_temperature_outdoors = covariates_temperature_outdoors_scaled[-train_split:]\n",
    "test_covariates_humidity_outdoors = covariates_humidity_outdoors_scaled[-train_split:]\n",
    "test_covariants = test_covariates_livingroom_door_open.stack(test_covariates_balcony_door_open).stack(test_covariates_livingroom_window_open).stack(test_covariates_kitchen_window_open).stack(test_covariates_temperature_indoors).stack(test_covariates_humidity_indoors).stack(test_covariates_temperature_outdoors).stack(test_covariates_humidity_outdoors)"
   ]
  },
  {
   "cell_type": "code",
   "execution_count": 30,
   "metadata": {
    "pycharm": {
     "name": "#%%\n"
    }
   },
   "outputs": [],
   "source": [
    "model_co2 = BlockRNNModel(\n",
    "    model=\"LSTM\",\n",
    "    input_chunk_length=90,\n",
    "    output_chunk_length=90,\n",
    "    n_epochs=1,\n",
    "    random_state=0,\n",
    "    dropout=0.1,\n",
    "    model_name=\"LSTM\",\n",
    "    nr_epochs_val_period=1,\n",
    "    optimizer_kwargs={\"lr\": 1e-3},\n",
    "    log_tensorboard=True,\n",
    "    force_reset=True,\n",
    ")"
   ]
  },
  {
   "cell_type": "code",
   "execution_count": null,
   "outputs": [],
   "source": [
    "model_co2.fit(series=train_series_co2, past_covariates=train_covariants, verbose=True)"
   ],
   "metadata": {
    "collapsed": false,
    "pycharm": {
     "name": "#%%\n"
    }
   }
  },
  {
   "cell_type": "code",
   "execution_count": 34,
   "metadata": {
    "pycharm": {
     "name": "#%%\n"
    }
   },
   "outputs": [],
   "source": [
    "model_co2.save_model('co2.pth.tar')"
   ]
  },
  {
   "cell_type": "code",
   "execution_count": 33,
   "metadata": {
    "pycharm": {
     "name": "#%%\n"
    }
   },
   "outputs": [
    {
     "data": {
      "text/plain": "<matplotlib.legend.Legend at 0x17b4b57f0>"
     },
     "execution_count": 33,
     "metadata": {},
     "output_type": "execute_result"
    },
    {
     "data": {
      "text/plain": "<Figure size 432x288 with 1 Axes>",
      "image/png": "[encoded data removed]"
     },
     "metadata": {
      "needs_background": "light"
     },
     "output_type": "display_data"
    }
   ],
   "source": [
    "dataset = loadDataset(\"https://iaq-data.brgr.rocks/day.csv\")\n",
    "\n",
    "covariates_livingroom_door_open = TimeSeries.from_dataframe(dataset, 'timestamp', 'livingroom_door_open', fill_missing_dates=True, freq=\"10s\")\n",
    "covariates_balcony_door_open = TimeSeries.from_dataframe(dataset, 'timestamp', 'balcony_door_open', fill_missing_dates=True, freq=\"10s\")\n",
    "series_co2 = TimeSeries.from_dataframe(dataset, 'timestamp', 'co2', fill_missing_dates=True, freq=\"10s\" )\n",
    "covariates_livingroom_door_open = fill_missing_values(covariates_livingroom_door_open, fill='auto')\n",
    "covariates_balcony_door_open = fill_missing_values(covariates_balcony_door_open, fill='auto')\n",
    "series_co2 = fill_missing_values(series_co2, fill='auto')\n",
    "\n",
    "scaler = Scaler()\n",
    "series_co2_scaled, covariates_livingroom_door_open_scaled, covariates_balcony_door_open_scaled = scaler.fit_transform([series_co2, covariates_livingroom_door_open, covariates_balcony_door_open])\n",
    "\n",
    "series_co2_scaled.plot(label=\"CO2\")\n",
    "plt.legend()\n"
   ]
  },
  {
   "cell_type": "code",
   "execution_count": 82,
   "outputs": [
    {
     "name": "stderr",
     "output_type": "stream",
     "text": [
      "/Users/manuelberger/Documents/dev/github/indoor-air-monitor/venv/lib/python3.8/site-packages/pytorch_lightning/trainer/connectors/data_connector.py:240: PossibleUserWarning: The dataloader, predict_dataloader 0, does not have many workers which may be a bottleneck. Consider increasing the value of the `num_workers` argument` (try 16 which is the number of cpus on this machine) in the `DataLoader` init to improve performance.\n",
      "  rank_zero_warn(\n"
     ]
    },
    {
     "data": {
      "text/plain": "Predicting: 14it [00:00, ?it/s]",
      "application/vnd.jupyter.widget-view+json": {
       "version_major": 2,
       "version_minor": 0,
       "model_id": "962a4c14287f403fad631c76887dc8e0"
      }
     },
     "metadata": {},
     "output_type": "display_data"
    },
    {
     "name": "stdout",
     "output_type": "stream",
     "text": [
      "<TimeSeries (DataArray) (timestamp: 8639, component: 1, sample: 1)>\n",
      "array([[[826.22]],\n",
      "\n",
      "       [[826.95]],\n",
      "\n",
      "       [[827.72]],\n",
      "\n",
      "       ...,\n",
      "\n",
      "       [[429.21]],\n",
      "\n",
      "       [[430.4 ]],\n",
      "\n",
      "       [[431.23]]])\n",
      "Coordinates:\n",
      "  * timestamp  (timestamp) datetime64[ns] 2022-07-04T06:00:30 ... 2022-07-05T...\n",
      "  * component  (component) object 'co2'\n",
      "Dimensions without coordinates: sample\n",
      "Attributes:\n",
      "    static_covariates:  None\n",
      "    hierarchy:          None\n"
     ]
    },
    {
     "data": {
      "text/plain": "<matplotlib.legend.Legend at 0x1952b9e50>"
     },
     "execution_count": 82,
     "metadata": {},
     "output_type": "execute_result"
    },
    {
     "data": {
      "text/plain": "<Figure size 432x288 with 1 Axes>",
      "image/png": "[encoded data removed]"
     },
     "metadata": {
      "needs_background": "light"
     },
     "output_type": "display_data"
    }
   ],
   "source": [
    "position = 5750\n",
    "past = 90\n",
    "\n",
    "train_series_co2 = series_co2_scaled[position:(position+past)]\n",
    "train_covariates_livingroom_door_open = covariates_livingroom_door_open_scaled[position:(position+past)]\n",
    "train_covariates_balcony_door_open = covariates_balcony_door_open_scaled[position:(position+past)]\n",
    "\n",
    "actual_co2 = series_co2_scaled[position:(position+past*2)]\n",
    "\n",
    "pred_list_scaled = model_co2.predict(n=past, series=[train_series_co2], past_covariates=[train_covariates_livingroom_door_open])\n",
    "\n",
    "pred_list = scaler.inverse_transform(pred_list_scaled)\n",
    "series_air = scaler.inverse_transform(series_co2_scaled)\n",
    "series_actual = scaler.inverse_transform(actual_co2)\n",
    "\n",
    "print(series_air)\n",
    "\n",
    "series_actual.plot(label=\"actual\", color=\"green\")\n",
    "for series, label in zip(pred_list, [\"co2\"]):\n",
    "    series.plot(label=f\"forecast {label}\")\n",
    "plt.legend()"
   ],
   "metadata": {
    "collapsed": false,
    "pycharm": {
     "name": "#%%\n"
    }
   }
  },
  {
   "cell_type": "code",
   "execution_count": 33,
   "outputs": [
    {
     "ename": "NameError",
     "evalue": "name 'historical_fcast' is not defined",
     "output_type": "error",
     "traceback": [
      "\u001B[0;31m---------------------------------------------------------------------------\u001B[0m",
      "\u001B[0;31mNameError\u001B[0m                                 Traceback (most recent call last)",
      "Input \u001B[0;32mIn [33]\u001B[0m, in \u001B[0;36m<cell line: 8>\u001B[0;34m()\u001B[0m\n\u001B[1;32m      3\u001B[0m \u001B[38;5;66;03m#historical_fcast = model_co2.historical_forecasts(\u001B[39;00m\n\u001B[1;32m      4\u001B[0m \u001B[38;5;66;03m# series=test_series_co2, past_covariates=test_covariants, start=90, forecast_horizon=90, verbose=False, retrain=False, overlap_end=False\u001B[39;00m\n\u001B[1;32m      5\u001B[0m \u001B[38;5;66;03m#)\u001B[39;00m\n\u001B[1;32m      7\u001B[0m series_co2_real \u001B[38;5;241m=\u001B[39m scaler\u001B[38;5;241m.\u001B[39minverse_transform(test_series_co2[\u001B[38;5;241m180\u001B[39m:])\n\u001B[0;32m----> 8\u001B[0m historical_fcast_real \u001B[38;5;241m=\u001B[39m scaler\u001B[38;5;241m.\u001B[39minverse_transform(\u001B[43mhistorical_fcast\u001B[49m)\n\u001B[1;32m     10\u001B[0m series_co2_real\u001B[38;5;241m.\u001B[39mplot(label\u001B[38;5;241m=\u001B[39m\u001B[38;5;124m\"\u001B[39m\u001B[38;5;124mactual\u001B[39m\u001B[38;5;124m\"\u001B[39m)\n\u001B[1;32m     11\u001B[0m historical_fcast_real\u001B[38;5;241m.\u001B[39mplot(label\u001B[38;5;241m=\u001B[39m\u001B[38;5;124m\"\u001B[39m\u001B[38;5;124mpredicted\u001B[39m\u001B[38;5;124m\"\u001B[39m)\n",
      "\u001B[0;31mNameError\u001B[0m: name 'historical_fcast' is not defined"
     ]
    }
   ],
   "source": [
    "from darts import metrics\n",
    "\n",
    "#historical_fcast = model_co2.historical_forecasts(\n",
    "# series=test_series_co2, past_covariates=test_covariants, start=90, forecast_horizon=90, verbose=False, retrain=False, overlap_end=False\n",
    "#)\n",
    "\n",
    "series_co2_real = scaler.inverse_transform(test_series_co2[180:])\n",
    "historical_fcast_real = scaler.inverse_transform(historical_fcast)\n",
    "\n",
    "series_co2_real.plot(label=\"actual\")\n",
    "historical_fcast_real.plot(label=\"predicted\")\n",
    "\n",
    "print(metrics.metrics.mae(series_co2_real, historical_fcast_real))"
   ],
   "metadata": {
    "collapsed": false,
    "pycharm": {
     "name": "#%%\n"
    }
   }
  },
  {
   "cell_type": "code",
   "execution_count": 77,
   "outputs": [],
   "source": [],
   "metadata": {
    "collapsed": false,
    "pycharm": {
     "name": "#%%\n"
    }
   }
  },
  {
   "cell_type": "code",
   "execution_count": 3,
   "outputs": [
    {
     "name": "stderr",
     "output_type": "stream",
     "text": [
      "/Users/manuelberger/Documents/dev/github/indoor-air-monitor/venv/lib/python3.8/site-packages/torch/nn/modules/rnn.py:62: UserWarning: dropout option adds dropout after all but last recurrent layer, so non-zero dropout expects num_layers greater than 1, but got dropout=0.1 and num_layers=1\n",
      "  warnings.warn(\"dropout option adds dropout after all but last \"\n"
     ]
    }
   ],
   "source": [
    "model_co2 = BlockRNNModel.load_model('co2.pth.tar')"
   ],
   "metadata": {
    "collapsed": false,
    "pycharm": {
     "name": "#%%\n"
    }
   }
  },
  {
   "cell_type": "code",
   "execution_count": null,
   "outputs": [],
   "source": [],
   "metadata": {
    "collapsed": false,
    "pycharm": {
     "name": "#%%\n"
    }
   }
  }
 ],
 "metadata": {
  "kernelspec": {
   "display_name": "Python 3.9.0 64-bit",
   "language": "python",
   "name": "python3"
  },
  "language_info": {
   "codemirror_mode": {
    "name": "ipython",
    "version": 3
   },
   "file_extension": ".py",
   "mimetype": "text/x-python",
   "name": "python",
   "nbconvert_exporter": "python",
   "pygments_lexer": "ipython3",
   "version": "3.9.0"
  },
  "orig_nbformat": 4,
  "vscode": {
   "interpreter": {
    "hash": "e020749b8c405a4242bdd3c61c5c07f9d41bc4ff046363bcb8007c696f34df4e"
   }
  }
 },
 "nbformat": 4,
 "nbformat_minor": 2
}