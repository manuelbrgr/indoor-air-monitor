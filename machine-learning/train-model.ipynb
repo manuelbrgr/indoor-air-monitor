{
 "cells": [
  {
   "cell_type": "code",
   "execution_count": 10,
   "metadata": {
    "pycharm": {
     "name": "#%%\n"
    }
   },
   "outputs": [],
   "source": [
    "# fix python path if working locally\n",
    "from helpers import fix_pythonpath_if_working_locally\n",
    "fix_pythonpath_if_working_locally()\n",
    "\n",
    "import requests\n",
    "import io\n",
    "import pandas as pd\n",
    "import numpy as np\n",
    "import torch\n",
    "import matplotlib.pyplot as plt\n",
    "import datetime as dt\n",
    "\n",
    "from darts import TimeSeries\n",
    "from darts.models import BlockRNNModel\n",
    "from darts.utils.missing_values import fill_missing_values\n",
    "from darts.dataprocessing.transformers import Scaler\n",
    "\n",
    "# for reproducibility\n",
    "torch.manual_seed(1)\n",
    "np.random.seed(1)\n"
   ]
  },
  {
   "cell_type": "code",
   "execution_count": 2,
   "metadata": {
    "pycharm": {
     "name": "#%%\n"
    }
   },
   "outputs": [
    {
     "name": "stdout",
     "output_type": "stream",
     "text": [
      "<bound method NDFrame.tail of                  timestamp     co2  livingroom_window_open  \\\n",
      "0      2022-05-03 16:12:40  606.62                       0   \n",
      "1      2022-05-03 16:12:50  605.24                       0   \n",
      "2      2022-05-03 16:13:00  604.32                       0   \n",
      "3      2022-05-03 16:13:10  604.82                       0   \n",
      "4      2022-05-03 16:13:20  606.36                       0   \n",
      "...                    ...     ...                     ...   \n",
      "677195 2022-08-01 03:59:40  410.30                       0   \n",
      "677196 2022-08-01 03:59:50  411.71                       0   \n",
      "677197 2022-08-01 04:00:00  413.17                       0   \n",
      "677198 2022-08-01 04:00:10  413.36                       0   \n",
      "677199 2022-08-01 04:00:30  414.13                       0   \n",
      "\n",
      "        livingroom_door_open  balcony_door_open  kitchen_window_open  \\\n",
      "0                          0                  0                    0   \n",
      "1                          0                  0                    0   \n",
      "2                          0                  0                    0   \n",
      "3                          0                  0                    0   \n",
      "4                          0                  0                    0   \n",
      "...                      ...                ...                  ...   \n",
      "677195                     0                  0                    1   \n",
      "677196                     0                  0                    1   \n",
      "677197                     0                  0                    1   \n",
      "677198                     0                  0                    1   \n",
      "677199                     0                  0                    1   \n",
      "\n",
      "        rtemperature  rhumidity  temperature_outdoor  humidity_outdoor  \n",
      "0              20.13      45.06                20.14             41.83  \n",
      "1              20.15      45.06                20.14             41.83  \n",
      "2              20.15      45.09                20.14             41.83  \n",
      "3              20.12      45.10                20.14             41.83  \n",
      "4              20.13      45.07                20.14             41.83  \n",
      "...              ...        ...                  ...               ...  \n",
      "677195         25.05      46.32                21.98             53.71  \n",
      "677196         25.02      46.39                21.98             53.71  \n",
      "677197         25.06      46.43                21.98             53.71  \n",
      "677198         25.06      46.33                21.98             53.71  \n",
      "677199         25.06      46.37                21.98             53.71  \n",
      "\n",
      "[676677 rows x 10 columns]>\n"
     ]
    }
   ],
   "source": [
    "# Importing Training Set\n",
    "def loadDataset(url):\n",
    "    s=requests.get(url).content\n",
    "    dataset = data=pd.read_csv(io.StringIO(s.decode('utf-8')))\n",
    "    dataset.livingroom_window_open = dataset.livingroom_window_open.replace({True: 1, False: 0})\n",
    "    dataset.livingroom_door_open = dataset.livingroom_window_open.replace({True: 1, False: 0})\n",
    "    dataset.balcony_door_open = dataset.livingroom_door_open.replace({True: 1, False: 0})\n",
    "    dataset.kitchen_window_open = dataset.kitchen_window_open.replace({True: 1, False: 0})\n",
    "    dataset.timestamp = pd.Series([dt.datetime.strptime(date, '%Y-%m-%dT%H:%M:%S.%fZ') for date in list(dataset['timestamp'])]).round(\"10S\")\n",
    "\n",
    "    # Select features (columns) to be involved intro training and predictions\n",
    "    cols = [\"timestamp\", \"co2\", \"livingroom_window_open\", \"livingroom_door_open\", \"balcony_door_open\", \"kitchen_window_open\", \"rtemperature\", \"rhumidity\", \"temperature_outdoor\", \"humidity_outdoor\"]\n",
    "    return dataset[cols].drop_duplicates(subset=['timestamp'], keep='last')\n",
    "\n",
    "dataset = loadDataset(\"https://iaq-data.brgr.rocks/full.csv\")\n",
    "print(dataset.tail)"
   ]
  },
  {
   "cell_type": "code",
   "execution_count": 3,
   "metadata": {
    "pycharm": {
     "name": "#%%\n"
    }
   },
   "outputs": [
    {
     "data": {
      "text/plain": [
       "<matplotlib.legend.Legend at 0x27697c2c6d0>"
      ]
     },
     "execution_count": 3,
     "metadata": {},
     "output_type": "execute_result"
    },
    {
     "data": {
      "image/png": "[encoded data removed]",
      "text/plain": [
       "<Figure size 432x288 with 1 Axes>"
      ]
     },
     "metadata": {
      "needs_background": "light"
     },
     "output_type": "display_data"
    }
   ],
   "source": [
    "# series to predict, in this case CO2\n",
    "series_co2 = fill_missing_values(TimeSeries.from_dataframe(dataset, 'timestamp', 'co2', fill_missing_dates=True, freq=\"10s\" ), fill='auto')\n",
    "\n",
    "# covariates to help predict the CO2 series\n",
    "covariates_livingroom_door_open = fill_missing_values(TimeSeries.from_dataframe(dataset, 'timestamp', 'livingroom_door_open', fill_missing_dates=True, freq=\"10s\"), fill='auto')\n",
    "covariates_balcony_door_open = fill_missing_values(TimeSeries.from_dataframe(dataset, 'timestamp', 'balcony_door_open', fill_missing_dates=True, freq=\"10s\"), fill='auto')\n",
    "covariates_livingroom_window_open = fill_missing_values(TimeSeries.from_dataframe(dataset, 'timestamp', 'livingroom_window_open', fill_missing_dates=True, freq=\"10s\"), fill='auto')\n",
    "covariates_kitchen_window_open = fill_missing_values(TimeSeries.from_dataframe(dataset, 'timestamp', 'kitchen_window_open', fill_missing_dates=True, freq=\"10s\"), fill='auto')\n",
    "covariates_temperature_indoors = fill_missing_values(TimeSeries.from_dataframe(dataset, 'timestamp', 'rtemperature', fill_missing_dates=True, freq=\"10s\"), fill='auto')\n",
    "covariates_humidity_indoors = fill_missing_values(TimeSeries.from_dataframe(dataset, 'timestamp', 'rhumidity', fill_missing_dates=True, freq=\"10s\"), fill='auto')\n",
    "covariates_temperature_outdoors = fill_missing_values(TimeSeries.from_dataframe(dataset, 'timestamp', 'temperature_outdoor', fill_missing_dates=True, freq=\"10s\"), fill='auto')\n",
    "covariates_humidity_outdoors = fill_missing_values(TimeSeries.from_dataframe(dataset, 'timestamp', 'humidity_outdoor', fill_missing_dates=True, freq=\"10s\"), fill='auto')\n",
    "\n",
    "series_co2.plot(label=\"CO2 in ppm\")\n",
    "plt.legend()"
   ]
  },
  {
   "cell_type": "code",
   "execution_count": 4,
   "metadata": {
    "pycharm": {
     "name": "#%%\n"
    }
   },
   "outputs": [],
   "source": [
    "scaler = Scaler()\n",
    "series_co2_scaled = scaler.fit_transform(series_co2)\n",
    "covariates_livingroom_door_open_scaled, covariates_balcony_door_open_scaled, covariates_livingroom_window_open_scaled, covariates_kitchen_window_open_scaled, covariates_temperature_indoors_scaled, covariates_humidity_indoors_scaled, covariates_temperature_outdoors_scaled, covariates_humidity_outdoors_scaled = scaler.fit_transform([covariates_livingroom_door_open, covariates_balcony_door_open, covariates_livingroom_window_open, covariates_kitchen_window_open, covariates_temperature_indoors, covariates_humidity_indoors, covariates_temperature_outdoors, covariates_humidity_outdoors])"
   ]
  },
  {
   "cell_type": "code",
   "execution_count": 41,
   "metadata": {
    "pycharm": {
     "name": "#%%\n"
    }
   },
   "outputs": [
    {
     "name": "stdout",
     "output_type": "stream",
     "text": [
      "673208\n"
     ]
    }
   ],
   "source": [
    "train_split = 100000\n",
    "test_split = len(series_co2_scaled)-train_split\n",
    "print(test_split)\n",
    "\n",
    "# training data\n",
    "train_series_co2 = series_co2_scaled[:train_split]\n",
    "train_covariates_livingroom_door_open = covariates_balcony_door_open_scaled[:train_split]\n",
    "train_covariates_balcony_door_open = covariates_balcony_door_open_scaled[:train_split]\n",
    "train_covariates_livingroom_window_open = covariates_livingroom_window_open_scaled[:train_split]\n",
    "train_covariates_kitchen_window_open = covariates_kitchen_window_open_scaled[:train_split]\n",
    "train_covariates_temperature_indoors = covariates_temperature_indoors_scaled[:train_split]\n",
    "train_covariates_humidity_indoors = covariates_humidity_indoors_scaled[:train_split]\n",
    "train_covariates_temperature_outdoors = covariates_temperature_outdoors_scaled[:train_split]\n",
    "train_covariates_humidity_outdoors = covariates_humidity_outdoors_scaled[:train_split]\n",
    "train_covariates = train_covariates_livingroom_door_open.stack(train_covariates_balcony_door_open).stack(train_covariates_livingroom_window_open).stack(train_covariates_kitchen_window_open)\n",
    "\n",
    "# test data\n",
    "test_series_co2 = series_co2_scaled[-test_split:]\n",
    "test_covariates_livingroom_door_open = covariates_balcony_door_open_scaled[-train_split:]\n",
    "test_covariates_balcony_door_open = covariates_balcony_door_open_scaled[-train_split:]\n",
    "test_covariates_livingroom_window_open = covariates_livingroom_window_open_scaled[-train_split:]\n",
    "test_covariates_kitchen_window_open = covariates_kitchen_window_open_scaled[-train_split:]\n",
    "test_covariates_temperature_indoors = covariates_temperature_indoors_scaled[-train_split:]\n",
    "test_covariates_humidity_indoors = covariates_humidity_indoors_scaled[-train_split:]\n",
    "test_covariates_temperature_outdoors = covariates_temperature_outdoors_scaled[-train_split:]\n",
    "test_covariates_humidity_outdoors = covariates_humidity_outdoors_scaled[-train_split:]\n",
    "test_covariates = test_covariates_livingroom_door_open.stack(test_covariates_balcony_door_open).stack(test_covariates_livingroom_window_open).stack(test_covariates_kitchen_window_open)"
   ]
  },
  {
   "cell_type": "code",
   "execution_count": 42,
   "metadata": {
    "pycharm": {
     "name": "#%%\n"
    }
   },
   "outputs": [],
   "source": [
    "model_co2 = BlockRNNModel(\n",
    "    model=\"GRU\",\n",
    "    input_chunk_length=90,\n",
    "    output_chunk_length=90,\n",
    "    n_epochs=4,\n",
    "    model_name=\"GRU\",\n",
    "    pl_trainer_kwargs={\n",
    "      \"accelerator\": \"gpu\",\n",
    "      \"gpus\": [0]\n",
    "    },\n",
    "    force_reset=True,\n",
    ")"
   ]
  },
  {
   "cell_type": "code",
   "execution_count": 43,
   "metadata": {
    "collapsed": false,
    "pycharm": {
     "name": "#%%\n"
    }
   },
   "outputs": [
    {
     "name": "stderr",
     "output_type": "stream",
     "text": [
      "2022-08-01 16:44:09 darts.models.forecasting.torch_forecasting_model INFO: Train dataset contains 99821 samples.\n",
      "2022-08-01 16:44:09 darts.models.forecasting.torch_forecasting_model INFO: Time series values are 64-bits; casting model to float64.\n",
      "2022-08-01 16:44:09 pytorch_lightning.utilities.rank_zero INFO: GPU available: True, used: True\n",
      "2022-08-01 16:44:09 pytorch_lightning.utilities.rank_zero INFO: TPU available: False, using: 0 TPU cores\n",
      "2022-08-01 16:44:09 pytorch_lightning.utilities.rank_zero INFO: IPU available: False, using: 0 IPUs\n",
      "2022-08-01 16:44:09 pytorch_lightning.utilities.rank_zero INFO: HPU available: False, using: 0 HPUs\n",
      "2022-08-01 16:44:09 pytorch_lightning.accelerators.gpu INFO: LOCAL_RANK: 0 - CUDA_VISIBLE_DEVICES: [0]\n",
      "2022-08-01 16:44:09 pytorch_lightning.callbacks.model_summary INFO: \n",
      "  | Name          | Type             | Params\n",
      "---------------------------------------------------\n",
      "0 | criterion     | MSELoss          | 0     \n",
      "1 | train_metrics | MetricCollection | 0     \n",
      "2 | val_metrics   | MetricCollection | 0     \n",
      "3 | rnn           | GRU              | 2.4 K \n",
      "4 | fc            | Sequential       | 2.3 K \n",
      "---------------------------------------------------\n",
      "4.7 K     Trainable params\n",
      "0         Non-trainable params\n",
      "4.7 K     Total params\n",
      "0.038     Total estimated model params size (MB)\n"
     ]
    },
    {
     "data": {
      "application/vnd.jupyter.widget-view+json": {
       "model_id": "69b0d98706d741aebeebbbc8b9abaf62",
       "version_major": 2,
       "version_minor": 0
      },
      "text/plain": [
       "Training: 0it [00:00, ?it/s]"
      ]
     },
     "metadata": {},
     "output_type": "display_data"
    },
    {
     "data": {
      "text/plain": [
       "<darts.models.forecasting.block_rnn_model.BlockRNNModel at 0x27768d2f220>"
      ]
     },
     "execution_count": 43,
     "metadata": {},
     "output_type": "execute_result"
    }
   ],
   "source": [
    "model_co2.fit(series=train_series_co2, past_covariates=train_covariates, verbose=True)"
   ]
  },
  {
   "cell_type": "code",
   "execution_count": 44,
   "metadata": {
    "pycharm": {
     "name": "#%%\n"
    }
   },
   "outputs": [],
   "source": [
    "model_co2.save_model('co2_gru_90x90x50_test.pth.tar')"
   ]
  }
 ],
 "metadata": {
  "kernelspec": {
   "display_name": "Python 3.9.0 64-bit",
   "language": "python",
   "name": "python3"
  },
  "language_info": {
   "codemirror_mode": {
    "name": "ipython",
    "version": 3
   },
   "file_extension": ".py",
   "mimetype": "text/x-python",
   "name": "python",
   "nbconvert_exporter": "python",
   "pygments_lexer": "ipython3",
   "version": "3.9.0"
  },
  "orig_nbformat": 4,
  "vscode": {
   "interpreter": {
    "hash": "e020749b8c405a4242bdd3c61c5c07f9d41bc4ff046363bcb8007c696f34df4e"
   }
  }
 },
 "nbformat": 4,
 "nbformat_minor": 2
}
