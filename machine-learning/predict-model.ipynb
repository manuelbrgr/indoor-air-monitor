{
 "cells": [
  {
   "cell_type": "code",
   "execution_count": 1,
   "metadata": {
    "pycharm": {
     "name": "#%%\n"
    }
   },
   "outputs": [],
   "source": [
    "# fix python path if working locally\n",
    "from helpers import fix_pythonpath_if_working_locally\n",
    "fix_pythonpath_if_working_locally()\n",
    "\n",
    "import requests\n",
    "import io\n",
    "import pandas as pd\n",
    "import numpy as np\n",
    "import torch\n",
    "import matplotlib.pyplot as plt\n",
    "import datetime as dt\n",
    "\n",
    "from darts import TimeSeries\n",
    "from darts.models import BlockRNNModel\n",
    "from darts.utils.missing_values import fill_missing_values\n",
    "from sklearn.preprocessing import MinMaxScaler\n",
    "from darts.dataprocessing.transformers import Scaler\n",
    "\n",
    "# for reproducibility\n",
    "torch.manual_seed(1)\n",
    "np.random.seed(1)\n"
   ]
  },
  {
   "cell_type": "code",
   "execution_count": 2,
   "metadata": {
    "pycharm": {
     "name": "#%%\n"
    }
   },
   "outputs": [],
   "source": [
    "# Importing Training Set\n",
    "def loadDataset(path):\n",
    "    dataset = data=pd.read_csv(path)\n",
    "    dataset.livingroom_window_open = dataset.livingroom_window_open.replace({True: 1, False: 0})\n",
    "    dataset.livingroom_door_open = dataset.livingroom_window_open.replace({True: 1, False: 0})\n",
    "    dataset.balcony_door_open = dataset.livingroom_door_open.replace({True: 1, False: 0})\n",
    "    dataset.kitchen_window_open = dataset.kitchen_window_open.replace({True: 1, False: 0})\n",
    "    dataset.timestamp = pd.Series([dt.datetime.strptime(date, '%Y-%m-%dT%H:%M:%S.%fZ') for date in list(dataset['timestamp'])]).round(\"10S\")\n",
    "\n",
    "    # Select features (columns) to be involved intro training and predictions\n",
    "    cols = [\"timestamp\", \"co2\", \"livingroom_window_open\", \"livingroom_door_open\", \"balcony_door_open\", \"kitchen_window_open\", \"rtemperature\", \"rhumidity\", \"temperature_outdoor\", \"humidity_outdoor\"]\n",
    "    return dataset[cols].drop_duplicates(subset=['timestamp'], keep='last')"
   ]
  },
  {
   "cell_type": "code",
   "execution_count": 3,
   "metadata": {
    "pycharm": {
     "name": "#%%\n"
    }
   },
   "outputs": [
    {
     "name": "stderr",
     "output_type": "stream",
     "text": [
      "C:\\Users\\lunar\\AppData\\Roaming\\Python\\Python39\\site-packages\\torch\\nn\\modules\\rnn.py:62: UserWarning: dropout option adds dropout after all but last recurrent layer, so non-zero dropout expects num_layers greater than 1, but got dropout=0.1 and num_layers=1\n",
      "  warnings.warn(\"dropout option adds dropout after all but last \"\n"
     ]
    }
   ],
   "source": [
    "model_co2 = BlockRNNModel.load_model('co2_gru_90x90x50.pth.tar')"
   ]
  },
  {
   "cell_type": "code",
   "execution_count": 4,
   "metadata": {
    "pycharm": {
     "name": "#%%\n"
    }
   },
   "outputs": [
    {
     "ename": "FileNotFoundError",
     "evalue": "[Errno 2] No such file or directory: '/home/remote/iot/15min.csv'",
     "output_type": "error",
     "traceback": [
      "\u001b[1;31m---------------------------------------------------------------------------\u001b[0m",
      "\u001b[1;31mFileNotFoundError\u001b[0m                         Traceback (most recent call last)",
      "\u001b[1;32mc:\\Users\\lunar\\dev\\indoor-air-monitor\\machine-learning\\predict-model.ipynb Zelle 4\u001b[0m in \u001b[0;36m<cell line: 1>\u001b[1;34m()\u001b[0m\n\u001b[1;32m----> <a href='vscode-notebook-cell:/c%3A/Users/lunar/dev/indoor-air-monitor/machine-learning/predict-model.ipynb#ch0000003?line=0'>1</a>\u001b[0m dataset \u001b[39m=\u001b[39m loadDataset(\u001b[39m\"\u001b[39;49m\u001b[39m/home/remote/iot/15min.csv\u001b[39;49m\u001b[39m\"\u001b[39;49m)\n\u001b[0;32m      <a href='vscode-notebook-cell:/c%3A/Users/lunar/dev/indoor-air-monitor/machine-learning/predict-model.ipynb#ch0000003?line=2'>3</a>\u001b[0m \u001b[39m# series to predict, in this case CO2\u001b[39;00m\n\u001b[0;32m      <a href='vscode-notebook-cell:/c%3A/Users/lunar/dev/indoor-air-monitor/machine-learning/predict-model.ipynb#ch0000003?line=3'>4</a>\u001b[0m series_co2 \u001b[39m=\u001b[39m fill_missing_values(TimeSeries\u001b[39m.\u001b[39mfrom_dataframe(dataset, \u001b[39m'\u001b[39m\u001b[39mtimestamp\u001b[39m\u001b[39m'\u001b[39m, \u001b[39m'\u001b[39m\u001b[39mco2\u001b[39m\u001b[39m'\u001b[39m, fill_missing_dates\u001b[39m=\u001b[39m\u001b[39mTrue\u001b[39;00m, freq\u001b[39m=\u001b[39m\u001b[39m\"\u001b[39m\u001b[39m10s\u001b[39m\u001b[39m\"\u001b[39m ), fill\u001b[39m=\u001b[39m\u001b[39m'\u001b[39m\u001b[39mauto\u001b[39m\u001b[39m'\u001b[39m)\n",
      "\u001b[1;32mc:\\Users\\lunar\\dev\\indoor-air-monitor\\machine-learning\\predict-model.ipynb Zelle 4\u001b[0m in \u001b[0;36mloadDataset\u001b[1;34m(path)\u001b[0m\n\u001b[0;32m      <a href='vscode-notebook-cell:/c%3A/Users/lunar/dev/indoor-air-monitor/machine-learning/predict-model.ipynb#ch0000003?line=1'>2</a>\u001b[0m \u001b[39mdef\u001b[39;00m \u001b[39mloadDataset\u001b[39m(path):\n\u001b[1;32m----> <a href='vscode-notebook-cell:/c%3A/Users/lunar/dev/indoor-air-monitor/machine-learning/predict-model.ipynb#ch0000003?line=2'>3</a>\u001b[0m     dataset \u001b[39m=\u001b[39m data\u001b[39m=\u001b[39mpd\u001b[39m.\u001b[39;49mread_csv(path)\n\u001b[0;32m      <a href='vscode-notebook-cell:/c%3A/Users/lunar/dev/indoor-air-monitor/machine-learning/predict-model.ipynb#ch0000003?line=3'>4</a>\u001b[0m     dataset\u001b[39m.\u001b[39mlivingroom_window_open \u001b[39m=\u001b[39m dataset\u001b[39m.\u001b[39mlivingroom_window_open\u001b[39m.\u001b[39mreplace({\u001b[39mTrue\u001b[39;00m: \u001b[39m1\u001b[39m, \u001b[39mFalse\u001b[39;00m: \u001b[39m0\u001b[39m})\n\u001b[0;32m      <a href='vscode-notebook-cell:/c%3A/Users/lunar/dev/indoor-air-monitor/machine-learning/predict-model.ipynb#ch0000003?line=4'>5</a>\u001b[0m     dataset\u001b[39m.\u001b[39mlivingroom_door_open \u001b[39m=\u001b[39m dataset\u001b[39m.\u001b[39mlivingroom_window_open\u001b[39m.\u001b[39mreplace({\u001b[39mTrue\u001b[39;00m: \u001b[39m1\u001b[39m, \u001b[39mFalse\u001b[39;00m: \u001b[39m0\u001b[39m})\n",
      "File \u001b[1;32mc:\\Users\\lunar\\AppData\\Local\\Programs\\Python\\Python39\\lib\\site-packages\\pandas\\util\\_decorators.py:311\u001b[0m, in \u001b[0;36mdeprecate_nonkeyword_arguments.<locals>.decorate.<locals>.wrapper\u001b[1;34m(*args, **kwargs)\u001b[0m\n\u001b[0;32m    305\u001b[0m \u001b[39mif\u001b[39;00m \u001b[39mlen\u001b[39m(args) \u001b[39m>\u001b[39m num_allow_args:\n\u001b[0;32m    306\u001b[0m     warnings\u001b[39m.\u001b[39mwarn(\n\u001b[0;32m    307\u001b[0m         msg\u001b[39m.\u001b[39mformat(arguments\u001b[39m=\u001b[39marguments),\n\u001b[0;32m    308\u001b[0m         \u001b[39mFutureWarning\u001b[39;00m,\n\u001b[0;32m    309\u001b[0m         stacklevel\u001b[39m=\u001b[39mstacklevel,\n\u001b[0;32m    310\u001b[0m     )\n\u001b[1;32m--> 311\u001b[0m \u001b[39mreturn\u001b[39;00m func(\u001b[39m*\u001b[39margs, \u001b[39m*\u001b[39m\u001b[39m*\u001b[39mkwargs)\n",
      "File \u001b[1;32mc:\\Users\\lunar\\AppData\\Local\\Programs\\Python\\Python39\\lib\\site-packages\\pandas\\io\\parsers\\readers.py:680\u001b[0m, in \u001b[0;36mread_csv\u001b[1;34m(filepath_or_buffer, sep, delimiter, header, names, index_col, usecols, squeeze, prefix, mangle_dupe_cols, dtype, engine, converters, true_values, false_values, skipinitialspace, skiprows, skipfooter, nrows, na_values, keep_default_na, na_filter, verbose, skip_blank_lines, parse_dates, infer_datetime_format, keep_date_col, date_parser, dayfirst, cache_dates, iterator, chunksize, compression, thousands, decimal, lineterminator, quotechar, quoting, doublequote, escapechar, comment, encoding, encoding_errors, dialect, error_bad_lines, warn_bad_lines, on_bad_lines, delim_whitespace, low_memory, memory_map, float_precision, storage_options)\u001b[0m\n\u001b[0;32m    665\u001b[0m kwds_defaults \u001b[39m=\u001b[39m _refine_defaults_read(\n\u001b[0;32m    666\u001b[0m     dialect,\n\u001b[0;32m    667\u001b[0m     delimiter,\n\u001b[1;32m   (...)\u001b[0m\n\u001b[0;32m    676\u001b[0m     defaults\u001b[39m=\u001b[39m{\u001b[39m\"\u001b[39m\u001b[39mdelimiter\u001b[39m\u001b[39m\"\u001b[39m: \u001b[39m\"\u001b[39m\u001b[39m,\u001b[39m\u001b[39m\"\u001b[39m},\n\u001b[0;32m    677\u001b[0m )\n\u001b[0;32m    678\u001b[0m kwds\u001b[39m.\u001b[39mupdate(kwds_defaults)\n\u001b[1;32m--> 680\u001b[0m \u001b[39mreturn\u001b[39;00m _read(filepath_or_buffer, kwds)\n",
      "File \u001b[1;32mc:\\Users\\lunar\\AppData\\Local\\Programs\\Python\\Python39\\lib\\site-packages\\pandas\\io\\parsers\\readers.py:575\u001b[0m, in \u001b[0;36m_read\u001b[1;34m(filepath_or_buffer, kwds)\u001b[0m\n\u001b[0;32m    572\u001b[0m _validate_names(kwds\u001b[39m.\u001b[39mget(\u001b[39m\"\u001b[39m\u001b[39mnames\u001b[39m\u001b[39m\"\u001b[39m, \u001b[39mNone\u001b[39;00m))\n\u001b[0;32m    574\u001b[0m \u001b[39m# Create the parser.\u001b[39;00m\n\u001b[1;32m--> 575\u001b[0m parser \u001b[39m=\u001b[39m TextFileReader(filepath_or_buffer, \u001b[39m*\u001b[39m\u001b[39m*\u001b[39mkwds)\n\u001b[0;32m    577\u001b[0m \u001b[39mif\u001b[39;00m chunksize \u001b[39mor\u001b[39;00m iterator:\n\u001b[0;32m    578\u001b[0m     \u001b[39mreturn\u001b[39;00m parser\n",
      "File \u001b[1;32mc:\\Users\\lunar\\AppData\\Local\\Programs\\Python\\Python39\\lib\\site-packages\\pandas\\io\\parsers\\readers.py:934\u001b[0m, in \u001b[0;36mTextFileReader.__init__\u001b[1;34m(self, f, engine, **kwds)\u001b[0m\n\u001b[0;32m    931\u001b[0m     \u001b[39mself\u001b[39m\u001b[39m.\u001b[39moptions[\u001b[39m\"\u001b[39m\u001b[39mhas_index_names\u001b[39m\u001b[39m\"\u001b[39m] \u001b[39m=\u001b[39m kwds[\u001b[39m\"\u001b[39m\u001b[39mhas_index_names\u001b[39m\u001b[39m\"\u001b[39m]\n\u001b[0;32m    933\u001b[0m \u001b[39mself\u001b[39m\u001b[39m.\u001b[39mhandles: IOHandles \u001b[39m|\u001b[39m \u001b[39mNone\u001b[39;00m \u001b[39m=\u001b[39m \u001b[39mNone\u001b[39;00m\n\u001b[1;32m--> 934\u001b[0m \u001b[39mself\u001b[39m\u001b[39m.\u001b[39m_engine \u001b[39m=\u001b[39m \u001b[39mself\u001b[39;49m\u001b[39m.\u001b[39;49m_make_engine(f, \u001b[39mself\u001b[39;49m\u001b[39m.\u001b[39;49mengine)\n",
      "File \u001b[1;32mc:\\Users\\lunar\\AppData\\Local\\Programs\\Python\\Python39\\lib\\site-packages\\pandas\\io\\parsers\\readers.py:1218\u001b[0m, in \u001b[0;36mTextFileReader._make_engine\u001b[1;34m(self, f, engine)\u001b[0m\n\u001b[0;32m   1214\u001b[0m     mode \u001b[39m=\u001b[39m \u001b[39m\"\u001b[39m\u001b[39mrb\u001b[39m\u001b[39m\"\u001b[39m\n\u001b[0;32m   1215\u001b[0m \u001b[39m# error: No overload variant of \"get_handle\" matches argument types\u001b[39;00m\n\u001b[0;32m   1216\u001b[0m \u001b[39m# \"Union[str, PathLike[str], ReadCsvBuffer[bytes], ReadCsvBuffer[str]]\"\u001b[39;00m\n\u001b[0;32m   1217\u001b[0m \u001b[39m# , \"str\", \"bool\", \"Any\", \"Any\", \"Any\", \"Any\", \"Any\"\u001b[39;00m\n\u001b[1;32m-> 1218\u001b[0m \u001b[39mself\u001b[39m\u001b[39m.\u001b[39mhandles \u001b[39m=\u001b[39m get_handle(  \u001b[39m# type: ignore[call-overload]\u001b[39;49;00m\n\u001b[0;32m   1219\u001b[0m     f,\n\u001b[0;32m   1220\u001b[0m     mode,\n\u001b[0;32m   1221\u001b[0m     encoding\u001b[39m=\u001b[39;49m\u001b[39mself\u001b[39;49m\u001b[39m.\u001b[39;49moptions\u001b[39m.\u001b[39;49mget(\u001b[39m\"\u001b[39;49m\u001b[39mencoding\u001b[39;49m\u001b[39m\"\u001b[39;49m, \u001b[39mNone\u001b[39;49;00m),\n\u001b[0;32m   1222\u001b[0m     compression\u001b[39m=\u001b[39;49m\u001b[39mself\u001b[39;49m\u001b[39m.\u001b[39;49moptions\u001b[39m.\u001b[39;49mget(\u001b[39m\"\u001b[39;49m\u001b[39mcompression\u001b[39;49m\u001b[39m\"\u001b[39;49m, \u001b[39mNone\u001b[39;49;00m),\n\u001b[0;32m   1223\u001b[0m     memory_map\u001b[39m=\u001b[39;49m\u001b[39mself\u001b[39;49m\u001b[39m.\u001b[39;49moptions\u001b[39m.\u001b[39;49mget(\u001b[39m\"\u001b[39;49m\u001b[39mmemory_map\u001b[39;49m\u001b[39m\"\u001b[39;49m, \u001b[39mFalse\u001b[39;49;00m),\n\u001b[0;32m   1224\u001b[0m     is_text\u001b[39m=\u001b[39;49mis_text,\n\u001b[0;32m   1225\u001b[0m     errors\u001b[39m=\u001b[39;49m\u001b[39mself\u001b[39;49m\u001b[39m.\u001b[39;49moptions\u001b[39m.\u001b[39;49mget(\u001b[39m\"\u001b[39;49m\u001b[39mencoding_errors\u001b[39;49m\u001b[39m\"\u001b[39;49m, \u001b[39m\"\u001b[39;49m\u001b[39mstrict\u001b[39;49m\u001b[39m\"\u001b[39;49m),\n\u001b[0;32m   1226\u001b[0m     storage_options\u001b[39m=\u001b[39;49m\u001b[39mself\u001b[39;49m\u001b[39m.\u001b[39;49moptions\u001b[39m.\u001b[39;49mget(\u001b[39m\"\u001b[39;49m\u001b[39mstorage_options\u001b[39;49m\u001b[39m\"\u001b[39;49m, \u001b[39mNone\u001b[39;49;00m),\n\u001b[0;32m   1227\u001b[0m )\n\u001b[0;32m   1228\u001b[0m \u001b[39massert\u001b[39;00m \u001b[39mself\u001b[39m\u001b[39m.\u001b[39mhandles \u001b[39mis\u001b[39;00m \u001b[39mnot\u001b[39;00m \u001b[39mNone\u001b[39;00m\n\u001b[0;32m   1229\u001b[0m f \u001b[39m=\u001b[39m \u001b[39mself\u001b[39m\u001b[39m.\u001b[39mhandles\u001b[39m.\u001b[39mhandle\n",
      "File \u001b[1;32mc:\\Users\\lunar\\AppData\\Local\\Programs\\Python\\Python39\\lib\\site-packages\\pandas\\io\\common.py:786\u001b[0m, in \u001b[0;36mget_handle\u001b[1;34m(path_or_buf, mode, encoding, compression, memory_map, is_text, errors, storage_options)\u001b[0m\n\u001b[0;32m    781\u001b[0m \u001b[39melif\u001b[39;00m \u001b[39misinstance\u001b[39m(handle, \u001b[39mstr\u001b[39m):\n\u001b[0;32m    782\u001b[0m     \u001b[39m# Check whether the filename is to be opened in binary mode.\u001b[39;00m\n\u001b[0;32m    783\u001b[0m     \u001b[39m# Binary mode does not support 'encoding' and 'newline'.\u001b[39;00m\n\u001b[0;32m    784\u001b[0m     \u001b[39mif\u001b[39;00m ioargs\u001b[39m.\u001b[39mencoding \u001b[39mand\u001b[39;00m \u001b[39m\"\u001b[39m\u001b[39mb\u001b[39m\u001b[39m\"\u001b[39m \u001b[39mnot\u001b[39;00m \u001b[39min\u001b[39;00m ioargs\u001b[39m.\u001b[39mmode:\n\u001b[0;32m    785\u001b[0m         \u001b[39m# Encoding\u001b[39;00m\n\u001b[1;32m--> 786\u001b[0m         handle \u001b[39m=\u001b[39m \u001b[39mopen\u001b[39;49m(\n\u001b[0;32m    787\u001b[0m             handle,\n\u001b[0;32m    788\u001b[0m             ioargs\u001b[39m.\u001b[39;49mmode,\n\u001b[0;32m    789\u001b[0m             encoding\u001b[39m=\u001b[39;49mioargs\u001b[39m.\u001b[39;49mencoding,\n\u001b[0;32m    790\u001b[0m             errors\u001b[39m=\u001b[39;49merrors,\n\u001b[0;32m    791\u001b[0m             newline\u001b[39m=\u001b[39;49m\u001b[39m\"\u001b[39;49m\u001b[39m\"\u001b[39;49m,\n\u001b[0;32m    792\u001b[0m         )\n\u001b[0;32m    793\u001b[0m     \u001b[39melse\u001b[39;00m:\n\u001b[0;32m    794\u001b[0m         \u001b[39m# Binary mode\u001b[39;00m\n\u001b[0;32m    795\u001b[0m         handle \u001b[39m=\u001b[39m \u001b[39mopen\u001b[39m(handle, ioargs\u001b[39m.\u001b[39mmode)\n",
      "\u001b[1;31mFileNotFoundError\u001b[0m: [Errno 2] No such file or directory: '/home/remote/iot/15min.csv'"
     ]
    }
   ],
   "source": [
    "dataset = loadDataset(\"/home/remote/iot/15min.csv\")\n",
    "\n",
    "# series to predict, in this case CO2\n",
    "series_co2 = fill_missing_values(TimeSeries.from_dataframe(dataset, 'timestamp', 'co2', fill_missing_dates=True, freq=\"10s\" ), fill='auto')\n",
    "\n",
    "# covariates to help predict the CO2 series\n",
    "covariates_livingroom_door_open = fill_missing_values(TimeSeries.from_dataframe(dataset, 'timestamp', 'livingroom_door_open', fill_missing_dates=True, freq=\"10s\"), fill='auto')\n",
    "covariates_balcony_door_open = fill_missing_values(TimeSeries.from_dataframe(dataset, 'timestamp', 'balcony_door_open', fill_missing_dates=True, freq=\"10s\"), fill='auto')\n",
    "covariates_livingroom_window_open = fill_missing_values(TimeSeries.from_dataframe(dataset, 'timestamp', 'livingroom_window_open', fill_missing_dates=True, freq=\"10s\"), fill='auto')\n",
    "covariates_kitchen_window_open = fill_missing_values(TimeSeries.from_dataframe(dataset, 'timestamp', 'kitchen_window_open', fill_missing_dates=True, freq=\"10s\"), fill='auto')\n",
    "covariates_temperature_indoors = fill_missing_values(TimeSeries.from_dataframe(dataset, 'timestamp', 'rtemperature', fill_missing_dates=True, freq=\"10s\"), fill='auto')\n",
    "covariates_humidity_indoors = fill_missing_values(TimeSeries.from_dataframe(dataset, 'timestamp', 'rhumidity', fill_missing_dates=True, freq=\"10s\"), fill='auto')\n",
    "covariates_temperature_outdoors = fill_missing_values(TimeSeries.from_dataframe(dataset, 'timestamp', 'temperature_outdoor', fill_missing_dates=True, freq=\"10s\"), fill='auto')\n",
    "covariates_humidity_outdoors = fill_missing_values(TimeSeries.from_dataframe(dataset, 'timestamp', 'humidity_outdoor', fill_missing_dates=True, freq=\"10s\"), fill='auto')\n",
    "\n",
    "scaler = Scaler()\n",
    "scaler_covariates = Scaler()\n",
    "series_co2_scaled = scaler.fit_transform(series_co2)\n",
    "\n",
    "covariates_livingroom_door_open_scaled, covariates_balcony_door_open_scaled, covariates_livingroom_window_open_scaled, covariates_kitchen_window_open_scaled, covariates_temperature_indoors_scaled, covariates_humidity_indoors_scaled, covariates_temperature_outdoors_scaled, covariates_humidity_outdoors_scaled = scaler_covariates.fit_transform([covariates_livingroom_door_open, covariates_balcony_door_open, covariates_livingroom_window_open, covariates_kitchen_window_open, covariates_temperature_indoors, covariates_humidity_indoors, covariates_temperature_outdoors, covariates_humidity_outdoors])\n",
    "\n",
    "all_covariates_scaled = covariates_livingroom_door_open_scaled.stack(covariates_balcony_door_open_scaled).stack(covariates_livingroom_window_open_scaled).stack(covariates_kitchen_window_open_scaled).stack(covariates_temperature_indoors_scaled).stack(covariates_humidity_indoors_scaled).stack(covariates_temperature_outdoors_scaled).stack(covariates_humidity_outdoors_scaled)\n",
    "series_co2_scaled.plot(label=\"CO2\")\n",
    "plt.legend()\n"
   ]
  },
  {
   "cell_type": "code",
   "execution_count": 46,
   "metadata": {
    "collapsed": false,
    "pycharm": {
     "name": "#%%\n"
    }
   },
   "outputs": [
    {
     "name": "stderr",
     "output_type": "stream",
     "text": [
      "/usr/local/lib/python3.9/dist-packages/pytorch_lightning/loops/utilities.py:92: PossibleUserWarning: `max_epochs` was not set. Setting it to 1000 epochs. To train without an epoch limit, set `max_epochs=-1`.\n",
      "  rank_zero_warn(\n",
      "2022-08-01 14:56:48 pytorch_lightning.utilities.rank_zero INFO: GPU available: False, used: False\n",
      "2022-08-01 14:56:48 pytorch_lightning.utilities.rank_zero INFO: TPU available: False, using: 0 TPU cores\n",
      "2022-08-01 14:56:48 pytorch_lightning.utilities.rank_zero INFO: IPU available: False, using: 0 IPUs\n",
      "2022-08-01 14:56:48 pytorch_lightning.utilities.rank_zero INFO: HPU available: False, using: 0 HPUs\n"
     ]
    },
    {
     "name": "stdout",
     "output_type": "stream",
     "text": [
      "<bound method TimeSeries.tail of <TimeSeries (DataArray) (timestamp: 90, component: 1, sample: 1)>\n",
      "array([[[0.56829717]],\n",
      "\n",
      "       [[0.57499024]],\n",
      "\n",
      "       [[0.5830777 ]],\n",
      "\n",
      "       [[0.59651961]],\n",
      "\n",
      "       [[0.62502092]],\n",
      "\n",
      "       [[0.61877405]],\n",
      "\n",
      "       [[0.61553907]],\n",
      "\n",
      "       [[0.60460706]],\n",
      "\n",
      "       [[0.61191366]],\n",
      "\n",
      "       [[0.61180211]],\n",
      "\n",
      "...\n",
      "\n",
      "       [[0.87556473]],\n",
      "\n",
      "       [[0.87740532]],\n",
      "\n",
      "       [[0.88415416]],\n",
      "\n",
      "       [[0.88621786]],\n",
      "\n",
      "       [[0.88482347]],\n",
      "\n",
      "       [[0.8925205 ]],\n",
      "\n",
      "       [[0.89508617]],\n",
      "\n",
      "       [[0.89709409]],\n",
      "\n",
      "       [[0.89586703]],\n",
      "\n",
      "       [[0.89463997]]])\n",
      "Coordinates:\n",
      "  * timestamp  (timestamp) datetime64[ns] 2022-08-01T14:32:40 ... 2022-08-01T...\n",
      "  * component  (component) object 'co2'\n",
      "Dimensions without coordinates: sample\n",
      "Attributes:\n",
      "    static_covariates:  None\n",
      "    hierarchy:          None>\n"
     ]
    },
    {
     "name": "stderr",
     "output_type": "stream",
     "text": [
      "/usr/local/lib/python3.9/dist-packages/pytorch_lightning/trainer/connectors/data_connector.py:240: PossibleUserWarning: The dataloader, predict_dataloader 0, does not have many workers which may be a bottleneck. Consider increasing the value of the `num_workers` argument` (try 4 which is the number of cpus on this machine) in the `DataLoader` init to improve performance.\n",
      "  rank_zero_warn(\n"
     ]
    },
    {
     "data": {
      "application/vnd.jupyter.widget-view+json": {
       "model_id": "2c898320f180435baabd3de6efce6737",
       "version_major": 2,
       "version_minor": 0
      },
      "text/plain": [
       "Predicting: 0it [00:00, ?it/s]"
      ]
     },
     "metadata": {},
     "output_type": "display_data"
    },
    {
     "name": "stdout",
     "output_type": "stream",
     "text": [
      "771.2156268140031\n"
     ]
    },
    {
     "data": {
      "text/plain": [
       "<matplotlib.legend.Legend at 0x7f313364f0>"
      ]
     },
     "execution_count": 46,
     "metadata": {},
     "output_type": "execute_result"
    },
    {
     "data": {
      "image/png": "[encoded data removed]",
      "text/plain": [
       "<Figure size 432x288 with 1 Axes>"
      ]
     },
     "metadata": {
      "needs_background": "light"
     },
     "output_type": "display_data"
    }
   ],
   "source": [
    "from pytorch_lightning import Trainer\n",
    "\n",
    "past = 90\n",
    "position = len(series_co2_scaled)\n",
    "\n",
    "past_series_co2_part = series_co2_scaled[position-past:(position)]\n",
    "past_covariates_part = all_covariates_scaled[position-past:(position)]\n",
    "\n",
    "actual_co2 = series_co2_scaled[position-past:(position)]\n",
    "\n",
    "pred_list_scaled = model_co2.predict(past, series=past_series_co2_part, past_covariates=past_covariates_part, trainer=Trainer(accelerator=\"cpu\"))\n",
    "\n",
    "pred_list = scaler.inverse_transform(pred_list_scaled)\n",
    "series_air = scaler.inverse_transform(series_co2_scaled)\n",
    "series_actual = scaler.inverse_transform(actual_co2)\n",
    "\n",
    "series_actual.plot(label=\"actual\", color=\"green\")\n",
    "pred_list.plot(label=\"forecast\", color=\"grey\")\n",
    "print(pred_list.last_value())\n",
    "plt.legend()"
   ]
  },
  {
   "cell_type": "code",
   "execution_count": 36,
   "metadata": {
    "collapsed": false,
    "pycharm": {
     "name": "#%%\n"
    }
   },
   "outputs": [
    {
     "name": "stderr",
     "output_type": "stream",
     "text": [
      "2022-08-01 12:47:49 darts.timeseries ERROR: ValueError: point (int) should be a valid index in series\n"
     ]
    },
    {
     "ename": "ValueError",
     "evalue": "point (int) should be a valid index in series",
     "output_type": "error",
     "traceback": [
      "\u001b[0;31m---------------------------------------------------------------------------\u001b[0m",
      "\u001b[0;31mValueError\u001b[0m                                Traceback (most recent call last)",
      "\u001b[1;32m/home/remote/dev/indoor-air-monitor/machine-learning/predict-model.ipynb Cell 6\u001b[0m in \u001b[0;36m<cell line: 3>\u001b[0;34m()\u001b[0m\n\u001b[1;32m      <a href='vscode-notebook-cell:/home/remote/dev/indoor-air-monitor/machine-learning/predict-model.ipynb#ch0000005?line=0'>1</a>\u001b[0m \u001b[39mfrom\u001b[39;00m \u001b[39mdarts\u001b[39;00m \u001b[39mimport\u001b[39;00m metrics\n\u001b[0;32m----> <a href='vscode-notebook-cell:/home/remote/dev/indoor-air-monitor/machine-learning/predict-model.ipynb#ch0000005?line=2'>3</a>\u001b[0m historical_fcast \u001b[39m=\u001b[39m model_co2\u001b[39m.\u001b[39;49mhistorical_forecasts(\n\u001b[1;32m      <a href='vscode-notebook-cell:/home/remote/dev/indoor-air-monitor/machine-learning/predict-model.ipynb#ch0000005?line=3'>4</a>\u001b[0m  series\u001b[39m=\u001b[39;49mpast_series_co2_part, past_covariates\u001b[39m=\u001b[39;49mpast_covariates_part, start\u001b[39m=\u001b[39;49m\u001b[39m90\u001b[39;49m, forecast_horizon\u001b[39m=\u001b[39;49m\u001b[39m90\u001b[39;49m, verbose\u001b[39m=\u001b[39;49m\u001b[39mFalse\u001b[39;49;00m, retrain\u001b[39m=\u001b[39;49m\u001b[39mFalse\u001b[39;49;00m, overlap_end\u001b[39m=\u001b[39;49m\u001b[39mFalse\u001b[39;49;00m\n\u001b[1;32m      <a href='vscode-notebook-cell:/home/remote/dev/indoor-air-monitor/machine-learning/predict-model.ipynb#ch0000005?line=4'>5</a>\u001b[0m )\n\u001b[1;32m      <a href='vscode-notebook-cell:/home/remote/dev/indoor-air-monitor/machine-learning/predict-model.ipynb#ch0000005?line=6'>7</a>\u001b[0m series_co2_real \u001b[39m=\u001b[39m scaler\u001b[39m.\u001b[39minverse_transform(past_series_co2_part[\u001b[39m180\u001b[39m:])\n\u001b[1;32m      <a href='vscode-notebook-cell:/home/remote/dev/indoor-air-monitor/machine-learning/predict-model.ipynb#ch0000005?line=7'>8</a>\u001b[0m historical_fcast_real \u001b[39m=\u001b[39m scaler\u001b[39m.\u001b[39minverse_transform(historical_fcast)\n",
      "File \u001b[0;32m~/.local/lib/python3.9/site-packages/darts/utils/utils.py:171\u001b[0m, in \u001b[0;36m_with_sanity_checks.<locals>.decorator.<locals>.sanitized_method\u001b[0;34m(self, *args, **kwargs)\u001b[0m\n\u001b[1;32m    167\u001b[0m             only_args\u001b[39m.\u001b[39mpop(param_name)\n\u001b[1;32m    169\u001b[0m     only_args\u001b[39m.\u001b[39mpop(\u001b[39m\"\u001b[39m\u001b[39mself\u001b[39m\u001b[39m\"\u001b[39m)\n\u001b[0;32m--> 171\u001b[0m     \u001b[39mgetattr\u001b[39;49m(\u001b[39mself\u001b[39;49m, sanity_check_method)(\u001b[39m*\u001b[39;49monly_args\u001b[39m.\u001b[39;49mvalues(), \u001b[39m*\u001b[39;49m\u001b[39m*\u001b[39;49monly_kwargs)\n\u001b[1;32m    172\u001b[0m \u001b[39mreturn\u001b[39;00m method_to_sanitize(\u001b[39mself\u001b[39m, \u001b[39m*\u001b[39monly_args\u001b[39m.\u001b[39mvalues(), \u001b[39m*\u001b[39m\u001b[39m*\u001b[39monly_kwargs)\n",
      "File \u001b[0;32m~/.local/lib/python3.9/site-packages/darts/models/forecasting/forecasting_model.py:277\u001b[0m, in \u001b[0;36mForecastingModel._historical_forecasts_sanity_checks\u001b[0;34m(self, *args, **kwargs)\u001b[0m\n\u001b[1;32m    275\u001b[0m \u001b[39m# parse args and kwargs\u001b[39;00m\n\u001b[1;32m    276\u001b[0m series \u001b[39m=\u001b[39m args[\u001b[39m0\u001b[39m]\n\u001b[0;32m--> 277\u001b[0m _historical_forecasts_general_checks(series, kwargs)\n",
      "File \u001b[0;32m~/.local/lib/python3.9/site-packages/darts/utils/utils.py:241\u001b[0m, in \u001b[0;36m_historical_forecasts_general_checks\u001b[0;34m(series, kwargs)\u001b[0m\n\u001b[1;32m    233\u001b[0m     \u001b[39melse\u001b[39;00m:\n\u001b[1;32m    234\u001b[0m         raise_log(\n\u001b[1;32m    235\u001b[0m             \u001b[39mTypeError\u001b[39;00m(\n\u001b[1;32m    236\u001b[0m                 \u001b[39m\"\u001b[39m\u001b[39m`start` needs to be either `float`, `int` or `pd.Timestamp`\u001b[39m\u001b[39m\"\u001b[39m\n\u001b[1;32m    237\u001b[0m             ),\n\u001b[1;32m    238\u001b[0m             logger,\n\u001b[1;32m    239\u001b[0m         )\n\u001b[0;32m--> 241\u001b[0m start \u001b[39m=\u001b[39m series\u001b[39m.\u001b[39;49mget_timestamp_at_point(n\u001b[39m.\u001b[39;49mstart)\n\u001b[1;32m    243\u001b[0m \u001b[39m# check start parameter\u001b[39;00m\n\u001b[1;32m    244\u001b[0m raise_if(\n\u001b[1;32m    245\u001b[0m     start \u001b[39m==\u001b[39m series\u001b[39m.\u001b[39mend_time(),\n\u001b[1;32m    246\u001b[0m     \u001b[39m\"\u001b[39m\u001b[39m`start` timestamp is the last timestamp of the series\u001b[39m\u001b[39m\"\u001b[39m,\n\u001b[1;32m    247\u001b[0m     logger,\n\u001b[1;32m    248\u001b[0m )\n",
      "File \u001b[0;32m~/.local/lib/python3.9/site-packages/darts/timeseries.py:1992\u001b[0m, in \u001b[0;36mTimeSeries.get_timestamp_at_point\u001b[0;34m(self, point)\u001b[0m\n\u001b[1;32m   1975\u001b[0m \u001b[39mdef\u001b[39;00m \u001b[39mget_timestamp_at_point\u001b[39m(\n\u001b[1;32m   1976\u001b[0m     \u001b[39mself\u001b[39m, point: Union[pd\u001b[39m.\u001b[39mTimestamp, \u001b[39mfloat\u001b[39m, \u001b[39mint\u001b[39m]\n\u001b[1;32m   1977\u001b[0m ) \u001b[39m-\u001b[39m\u001b[39m>\u001b[39m pd\u001b[39m.\u001b[39mTimestamp:\n\u001b[1;32m   1978\u001b[0m     \u001b[39m\"\"\"\u001b[39;00m\n\u001b[1;32m   1979\u001b[0m \u001b[39m    Converts a point into a pandas.Timestamp (if Datetime-indexed) or into an integer (if Int64-indexed).\u001b[39;00m\n\u001b[1;32m   1980\u001b[0m \n\u001b[0;32m   (...)\u001b[0m\n\u001b[1;32m   1990\u001b[0m \u001b[39m        is present in the series time index, otherwise will raise a ValueError.\u001b[39;00m\n\u001b[1;32m   1991\u001b[0m \u001b[39m    \"\"\"\u001b[39;00m\n\u001b[0;32m-> 1992\u001b[0m     idx \u001b[39m=\u001b[39m \u001b[39mself\u001b[39;49m\u001b[39m.\u001b[39;49mget_index_at_point(point)\n\u001b[1;32m   1993\u001b[0m     \u001b[39mreturn\u001b[39;00m \u001b[39mself\u001b[39m\u001b[39m.\u001b[39m_time_index[idx]\n",
      "File \u001b[0;32m~/.local/lib/python3.9/site-packages/darts/timeseries.py:1945\u001b[0m, in \u001b[0;36mTimeSeries.get_index_at_point\u001b[0;34m(self, point, after)\u001b[0m\n\u001b[1;32m   1943\u001b[0m     point_index \u001b[39m=\u001b[39m \u001b[39mint\u001b[39m((\u001b[39mlen\u001b[39m(\u001b[39mself\u001b[39m) \u001b[39m-\u001b[39m \u001b[39m1\u001b[39m) \u001b[39m*\u001b[39m point)\n\u001b[1;32m   1944\u001b[0m \u001b[39melif\u001b[39;00m \u001b[39misinstance\u001b[39m(point, (\u001b[39mint\u001b[39m, np\u001b[39m.\u001b[39mint64)):\n\u001b[0;32m-> 1945\u001b[0m     raise_if(\n\u001b[1;32m   1946\u001b[0m         point \u001b[39mnot\u001b[39;49;00m \u001b[39min\u001b[39;49;00m \u001b[39mrange\u001b[39;49m(\u001b[39mlen\u001b[39;49m(\u001b[39mself\u001b[39;49m)),\n\u001b[1;32m   1947\u001b[0m         \u001b[39m\"\u001b[39;49m\u001b[39mpoint (int) should be a valid index in series\u001b[39;49m\u001b[39m\"\u001b[39;49m,\n\u001b[1;32m   1948\u001b[0m         logger,\n\u001b[1;32m   1949\u001b[0m     )\n\u001b[1;32m   1950\u001b[0m     point_index \u001b[39m=\u001b[39m point\n\u001b[1;32m   1951\u001b[0m \u001b[39melif\u001b[39;00m \u001b[39misinstance\u001b[39m(point, pd\u001b[39m.\u001b[39mTimestamp):\n",
      "File \u001b[0;32m~/.local/lib/python3.9/site-packages/darts/logging.py:106\u001b[0m, in \u001b[0;36mraise_if\u001b[0;34m(condition, message, logger)\u001b[0m\n\u001b[1;32m     83\u001b[0m \u001b[39mdef\u001b[39;00m \u001b[39mraise_if\u001b[39m(\n\u001b[1;32m     84\u001b[0m     condition: \u001b[39mbool\u001b[39m,\n\u001b[1;32m     85\u001b[0m     message: \u001b[39mstr\u001b[39m \u001b[39m=\u001b[39m \u001b[39m\"\u001b[39m\u001b[39m\"\u001b[39m,\n\u001b[1;32m     86\u001b[0m     logger: logging\u001b[39m.\u001b[39mLogger \u001b[39m=\u001b[39m get_logger(\u001b[39m\"\u001b[39m\u001b[39mmain_logger\u001b[39m\u001b[39m\"\u001b[39m),\n\u001b[1;32m     87\u001b[0m ):\n\u001b[1;32m     88\u001b[0m     \u001b[39m\"\"\"\u001b[39;00m\n\u001b[1;32m     89\u001b[0m \u001b[39m    Checks provided boolean condition and raises a ValueError if it evaluates to True.\u001b[39;00m\n\u001b[1;32m     90\u001b[0m \u001b[39m    It logs the error to the provided logger before raising it.\u001b[39;00m\n\u001b[0;32m   (...)\u001b[0m\n\u001b[1;32m    104\u001b[0m \u001b[39m        if `condition` is satisfied\u001b[39;00m\n\u001b[1;32m    105\u001b[0m \u001b[39m    \"\"\"\u001b[39;00m\n\u001b[0;32m--> 106\u001b[0m     raise_if_not(\u001b[39mnot\u001b[39;49;00m condition, message, logger)\n",
      "File \u001b[0;32m~/.local/lib/python3.9/site-packages/darts/logging.py:80\u001b[0m, in \u001b[0;36mraise_if_not\u001b[0;34m(condition, message, logger)\u001b[0m\n\u001b[1;32m     78\u001b[0m \u001b[39mif\u001b[39;00m \u001b[39mnot\u001b[39;00m condition:\n\u001b[1;32m     79\u001b[0m     logger\u001b[39m.\u001b[39merror(\u001b[39m\"\u001b[39m\u001b[39mValueError: \u001b[39m\u001b[39m\"\u001b[39m \u001b[39m+\u001b[39m message)\n\u001b[0;32m---> 80\u001b[0m     \u001b[39mraise\u001b[39;00m \u001b[39mValueError\u001b[39;00m(message)\n",
      "\u001b[0;31mValueError\u001b[0m: point (int) should be a valid index in series"
     ]
    }
   ],
   "source": [
    "from darts import metrics\n",
    "\n",
    "historical_fcast = model_co2.historical_forecasts(\n",
    " series=past_series_co2_part, past_covariates=past_covariates_part, start=90, forecast_horizon=90, verbose=False, retrain=False, overlap_end=False\n",
    ")\n",
    "\n",
    "series_co2_real = scaler.inverse_transform(past_series_co2_part[180:])\n",
    "historical_fcast_real = scaler.inverse_transform(historical_fcast)\n",
    "\n",
    "series_co2_real.plot(label=\"actual\")\n",
    "historical_fcast_real.plot(label=\"predicted\")\n",
    "\n",
    "print(metrics.metrics.mae(series_co2_real, historical_fcast_real))"
   ]
  }
 ],
 "metadata": {
  "kernelspec": {
   "display_name": "Python 3.9.0 64-bit",
   "language": "python",
   "name": "python3"
  },
  "language_info": {
   "codemirror_mode": {
    "name": "ipython",
    "version": 3
   },
   "file_extension": ".py",
   "mimetype": "text/x-python",
   "name": "python",
   "nbconvert_exporter": "python",
   "pygments_lexer": "ipython3",
   "version": "3.9.0"
  },
  "orig_nbformat": 4,
  "vscode": {
   "interpreter": {
    "hash": "e020749b8c405a4242bdd3c61c5c07f9d41bc4ff046363bcb8007c696f34df4e"
   }
  }
 },
 "nbformat": 4,
 "nbformat_minor": 2
}
