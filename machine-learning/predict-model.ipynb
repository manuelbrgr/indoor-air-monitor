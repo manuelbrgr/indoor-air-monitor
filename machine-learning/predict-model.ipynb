{
 "cells": [
  {
   "cell_type": "code",
   "execution_count": 1,
   "metadata": {
    "pycharm": {
     "name": "#%%\n"
    }
   },
   "outputs": [
    {
     "name": "stderr",
     "output_type": "stream",
     "text": [
      "/home/remote/.local/lib/python3.9/site-packages/torchvision/io/image.py:11: UserWarning: Failed to load image Python extension: \n",
      "  warn(f\"Failed to load image Python extension: {e}\")\n"
     ]
    }
   ],
   "source": [
    "# fix python path if working locally\n",
    "from helpers import fix_pythonpath_if_working_locally\n",
    "fix_pythonpath_if_working_locally()\n",
    "\n",
    "import pandas as pd\n",
    "import numpy as np\n",
    "import torch\n",
    "import matplotlib.pyplot as plt\n",
    "import datetime as dt\n",
    "\n",
    "from darts import TimeSeries\n",
    "from darts.models import RNNModel\n",
    "from darts.utils.missing_values import fill_missing_values\n",
    "from darts.dataprocessing.transformers import Scaler\n",
    "\n",
    "# for reproducibility\n",
    "torch.manual_seed(1)\n",
    "np.random.seed(1)\n"
   ]
  },
  {
   "cell_type": "code",
   "execution_count": 2,
   "metadata": {
    "pycharm": {
     "name": "#%%\n"
    }
   },
   "outputs": [],
   "source": [
    "# Importing Training Set\n",
    "def loadDataset(path):\n",
    "    dataset = data=pd.read_csv(path)\n",
    "    dataset.livingroom_window_open = dataset.livingroom_window_open.replace({True: 1, False: 0})\n",
    "    dataset.livingroom_door_open = dataset.livingroom_window_open.replace({True: 1, False: 0})\n",
    "    dataset.balcony_door_open = dataset.livingroom_door_open.replace({True: 1, False: 0})\n",
    "    dataset.kitchen_window_open = dataset.kitchen_window_open.replace({True: 1, False: 0})\n",
    "    dataset.timestamp = pd.Series([dt.datetime.strptime(date, '%Y-%m-%dT%H:%M:%S.%fZ') for date in list(dataset['timestamp'])]).round(\"10S\")\n",
    "\n",
    "    # Select features (columns) to be involved intro training and predictions\n",
    "    cols = [\"timestamp\", \"co2\", \"livingroom_window_open\", \"livingroom_door_open\", \"balcony_door_open\", \"kitchen_window_open\", \"rtemperature\", \"rhumidity\", \"temperature_outdoor\", \"humidity_outdoor\"]\n",
    "    return dataset[cols].drop_duplicates(subset=['timestamp'], keep='last')"
   ]
  },
  {
   "cell_type": "code",
   "execution_count": 3,
   "metadata": {
    "pycharm": {
     "name": "#%%\n"
    }
   },
   "outputs": [],
   "source": [
    "model_co2 = RNNModel.load_model('co2_gru_90x90x50_retrained.pth.tar')"
   ]
  },
  {
   "cell_type": "code",
<<<<<<< HEAD
   "execution_count": 4,
=======
   "execution_count": 6,
>>>>>>> 058935831d5e7b8e51055e2d735b3e749a6cca66
   "metadata": {
    "pycharm": {
     "name": "#%%\n"
    }
   },
   "outputs": [
    {
<<<<<<< HEAD
     "ename": "FileNotFoundError",
     "evalue": "[Errno 2] No such file or directory: '/home/remote/iot/15min.csv'",
     "output_type": "error",
     "traceback": [
      "\u001b[1;31m---------------------------------------------------------------------------\u001b[0m",
      "\u001b[1;31mFileNotFoundError\u001b[0m                         Traceback (most recent call last)",
      "\u001b[1;32mc:\\Users\\lunar\\dev\\indoor-air-monitor\\machine-learning\\predict-model.ipynb Zelle 4\u001b[0m in \u001b[0;36m<cell line: 1>\u001b[1;34m()\u001b[0m\n\u001b[1;32m----> <a href='vscode-notebook-cell:/c%3A/Users/lunar/dev/indoor-air-monitor/machine-learning/predict-model.ipynb#ch0000003?line=0'>1</a>\u001b[0m dataset \u001b[39m=\u001b[39m loadDataset(\u001b[39m\"\u001b[39;49m\u001b[39m/home/remote/iot/15min.csv\u001b[39;49m\u001b[39m\"\u001b[39;49m)\n\u001b[0;32m      <a href='vscode-notebook-cell:/c%3A/Users/lunar/dev/indoor-air-monitor/machine-learning/predict-model.ipynb#ch0000003?line=2'>3</a>\u001b[0m \u001b[39m# series to predict, in this case CO2\u001b[39;00m\n\u001b[0;32m      <a href='vscode-notebook-cell:/c%3A/Users/lunar/dev/indoor-air-monitor/machine-learning/predict-model.ipynb#ch0000003?line=3'>4</a>\u001b[0m series_co2 \u001b[39m=\u001b[39m fill_missing_values(TimeSeries\u001b[39m.\u001b[39mfrom_dataframe(dataset, \u001b[39m'\u001b[39m\u001b[39mtimestamp\u001b[39m\u001b[39m'\u001b[39m, \u001b[39m'\u001b[39m\u001b[39mco2\u001b[39m\u001b[39m'\u001b[39m, fill_missing_dates\u001b[39m=\u001b[39m\u001b[39mTrue\u001b[39;00m, freq\u001b[39m=\u001b[39m\u001b[39m\"\u001b[39m\u001b[39m10s\u001b[39m\u001b[39m\"\u001b[39m ), fill\u001b[39m=\u001b[39m\u001b[39m'\u001b[39m\u001b[39mauto\u001b[39m\u001b[39m'\u001b[39m)\n",
      "\u001b[1;32mc:\\Users\\lunar\\dev\\indoor-air-monitor\\machine-learning\\predict-model.ipynb Zelle 4\u001b[0m in \u001b[0;36mloadDataset\u001b[1;34m(path)\u001b[0m\n\u001b[0;32m      <a href='vscode-notebook-cell:/c%3A/Users/lunar/dev/indoor-air-monitor/machine-learning/predict-model.ipynb#ch0000003?line=1'>2</a>\u001b[0m \u001b[39mdef\u001b[39;00m \u001b[39mloadDataset\u001b[39m(path):\n\u001b[1;32m----> <a href='vscode-notebook-cell:/c%3A/Users/lunar/dev/indoor-air-monitor/machine-learning/predict-model.ipynb#ch0000003?line=2'>3</a>\u001b[0m     dataset \u001b[39m=\u001b[39m data\u001b[39m=\u001b[39mpd\u001b[39m.\u001b[39;49mread_csv(path)\n\u001b[0;32m      <a href='vscode-notebook-cell:/c%3A/Users/lunar/dev/indoor-air-monitor/machine-learning/predict-model.ipynb#ch0000003?line=3'>4</a>\u001b[0m     dataset\u001b[39m.\u001b[39mlivingroom_window_open \u001b[39m=\u001b[39m dataset\u001b[39m.\u001b[39mlivingroom_window_open\u001b[39m.\u001b[39mreplace({\u001b[39mTrue\u001b[39;00m: \u001b[39m1\u001b[39m, \u001b[39mFalse\u001b[39;00m: \u001b[39m0\u001b[39m})\n\u001b[0;32m      <a href='vscode-notebook-cell:/c%3A/Users/lunar/dev/indoor-air-monitor/machine-learning/predict-model.ipynb#ch0000003?line=4'>5</a>\u001b[0m     dataset\u001b[39m.\u001b[39mlivingroom_door_open \u001b[39m=\u001b[39m dataset\u001b[39m.\u001b[39mlivingroom_window_open\u001b[39m.\u001b[39mreplace({\u001b[39mTrue\u001b[39;00m: \u001b[39m1\u001b[39m, \u001b[39mFalse\u001b[39;00m: \u001b[39m0\u001b[39m})\n",
      "File \u001b[1;32mc:\\Users\\lunar\\AppData\\Local\\Programs\\Python\\Python39\\lib\\site-packages\\pandas\\util\\_decorators.py:311\u001b[0m, in \u001b[0;36mdeprecate_nonkeyword_arguments.<locals>.decorate.<locals>.wrapper\u001b[1;34m(*args, **kwargs)\u001b[0m\n\u001b[0;32m    305\u001b[0m \u001b[39mif\u001b[39;00m \u001b[39mlen\u001b[39m(args) \u001b[39m>\u001b[39m num_allow_args:\n\u001b[0;32m    306\u001b[0m     warnings\u001b[39m.\u001b[39mwarn(\n\u001b[0;32m    307\u001b[0m         msg\u001b[39m.\u001b[39mformat(arguments\u001b[39m=\u001b[39marguments),\n\u001b[0;32m    308\u001b[0m         \u001b[39mFutureWarning\u001b[39;00m,\n\u001b[0;32m    309\u001b[0m         stacklevel\u001b[39m=\u001b[39mstacklevel,\n\u001b[0;32m    310\u001b[0m     )\n\u001b[1;32m--> 311\u001b[0m \u001b[39mreturn\u001b[39;00m func(\u001b[39m*\u001b[39margs, \u001b[39m*\u001b[39m\u001b[39m*\u001b[39mkwargs)\n",
      "File \u001b[1;32mc:\\Users\\lunar\\AppData\\Local\\Programs\\Python\\Python39\\lib\\site-packages\\pandas\\io\\parsers\\readers.py:680\u001b[0m, in \u001b[0;36mread_csv\u001b[1;34m(filepath_or_buffer, sep, delimiter, header, names, index_col, usecols, squeeze, prefix, mangle_dupe_cols, dtype, engine, converters, true_values, false_values, skipinitialspace, skiprows, skipfooter, nrows, na_values, keep_default_na, na_filter, verbose, skip_blank_lines, parse_dates, infer_datetime_format, keep_date_col, date_parser, dayfirst, cache_dates, iterator, chunksize, compression, thousands, decimal, lineterminator, quotechar, quoting, doublequote, escapechar, comment, encoding, encoding_errors, dialect, error_bad_lines, warn_bad_lines, on_bad_lines, delim_whitespace, low_memory, memory_map, float_precision, storage_options)\u001b[0m\n\u001b[0;32m    665\u001b[0m kwds_defaults \u001b[39m=\u001b[39m _refine_defaults_read(\n\u001b[0;32m    666\u001b[0m     dialect,\n\u001b[0;32m    667\u001b[0m     delimiter,\n\u001b[1;32m   (...)\u001b[0m\n\u001b[0;32m    676\u001b[0m     defaults\u001b[39m=\u001b[39m{\u001b[39m\"\u001b[39m\u001b[39mdelimiter\u001b[39m\u001b[39m\"\u001b[39m: \u001b[39m\"\u001b[39m\u001b[39m,\u001b[39m\u001b[39m\"\u001b[39m},\n\u001b[0;32m    677\u001b[0m )\n\u001b[0;32m    678\u001b[0m kwds\u001b[39m.\u001b[39mupdate(kwds_defaults)\n\u001b[1;32m--> 680\u001b[0m \u001b[39mreturn\u001b[39;00m _read(filepath_or_buffer, kwds)\n",
      "File \u001b[1;32mc:\\Users\\lunar\\AppData\\Local\\Programs\\Python\\Python39\\lib\\site-packages\\pandas\\io\\parsers\\readers.py:575\u001b[0m, in \u001b[0;36m_read\u001b[1;34m(filepath_or_buffer, kwds)\u001b[0m\n\u001b[0;32m    572\u001b[0m _validate_names(kwds\u001b[39m.\u001b[39mget(\u001b[39m\"\u001b[39m\u001b[39mnames\u001b[39m\u001b[39m\"\u001b[39m, \u001b[39mNone\u001b[39;00m))\n\u001b[0;32m    574\u001b[0m \u001b[39m# Create the parser.\u001b[39;00m\n\u001b[1;32m--> 575\u001b[0m parser \u001b[39m=\u001b[39m TextFileReader(filepath_or_buffer, \u001b[39m*\u001b[39m\u001b[39m*\u001b[39mkwds)\n\u001b[0;32m    577\u001b[0m \u001b[39mif\u001b[39;00m chunksize \u001b[39mor\u001b[39;00m iterator:\n\u001b[0;32m    578\u001b[0m     \u001b[39mreturn\u001b[39;00m parser\n",
      "File \u001b[1;32mc:\\Users\\lunar\\AppData\\Local\\Programs\\Python\\Python39\\lib\\site-packages\\pandas\\io\\parsers\\readers.py:934\u001b[0m, in \u001b[0;36mTextFileReader.__init__\u001b[1;34m(self, f, engine, **kwds)\u001b[0m\n\u001b[0;32m    931\u001b[0m     \u001b[39mself\u001b[39m\u001b[39m.\u001b[39moptions[\u001b[39m\"\u001b[39m\u001b[39mhas_index_names\u001b[39m\u001b[39m\"\u001b[39m] \u001b[39m=\u001b[39m kwds[\u001b[39m\"\u001b[39m\u001b[39mhas_index_names\u001b[39m\u001b[39m\"\u001b[39m]\n\u001b[0;32m    933\u001b[0m \u001b[39mself\u001b[39m\u001b[39m.\u001b[39mhandles: IOHandles \u001b[39m|\u001b[39m \u001b[39mNone\u001b[39;00m \u001b[39m=\u001b[39m \u001b[39mNone\u001b[39;00m\n\u001b[1;32m--> 934\u001b[0m \u001b[39mself\u001b[39m\u001b[39m.\u001b[39m_engine \u001b[39m=\u001b[39m \u001b[39mself\u001b[39;49m\u001b[39m.\u001b[39;49m_make_engine(f, \u001b[39mself\u001b[39;49m\u001b[39m.\u001b[39;49mengine)\n",
      "File \u001b[1;32mc:\\Users\\lunar\\AppData\\Local\\Programs\\Python\\Python39\\lib\\site-packages\\pandas\\io\\parsers\\readers.py:1218\u001b[0m, in \u001b[0;36mTextFileReader._make_engine\u001b[1;34m(self, f, engine)\u001b[0m\n\u001b[0;32m   1214\u001b[0m     mode \u001b[39m=\u001b[39m \u001b[39m\"\u001b[39m\u001b[39mrb\u001b[39m\u001b[39m\"\u001b[39m\n\u001b[0;32m   1215\u001b[0m \u001b[39m# error: No overload variant of \"get_handle\" matches argument types\u001b[39;00m\n\u001b[0;32m   1216\u001b[0m \u001b[39m# \"Union[str, PathLike[str], ReadCsvBuffer[bytes], ReadCsvBuffer[str]]\"\u001b[39;00m\n\u001b[0;32m   1217\u001b[0m \u001b[39m# , \"str\", \"bool\", \"Any\", \"Any\", \"Any\", \"Any\", \"Any\"\u001b[39;00m\n\u001b[1;32m-> 1218\u001b[0m \u001b[39mself\u001b[39m\u001b[39m.\u001b[39mhandles \u001b[39m=\u001b[39m get_handle(  \u001b[39m# type: ignore[call-overload]\u001b[39;49;00m\n\u001b[0;32m   1219\u001b[0m     f,\n\u001b[0;32m   1220\u001b[0m     mode,\n\u001b[0;32m   1221\u001b[0m     encoding\u001b[39m=\u001b[39;49m\u001b[39mself\u001b[39;49m\u001b[39m.\u001b[39;49moptions\u001b[39m.\u001b[39;49mget(\u001b[39m\"\u001b[39;49m\u001b[39mencoding\u001b[39;49m\u001b[39m\"\u001b[39;49m, \u001b[39mNone\u001b[39;49;00m),\n\u001b[0;32m   1222\u001b[0m     compression\u001b[39m=\u001b[39;49m\u001b[39mself\u001b[39;49m\u001b[39m.\u001b[39;49moptions\u001b[39m.\u001b[39;49mget(\u001b[39m\"\u001b[39;49m\u001b[39mcompression\u001b[39;49m\u001b[39m\"\u001b[39;49m, \u001b[39mNone\u001b[39;49;00m),\n\u001b[0;32m   1223\u001b[0m     memory_map\u001b[39m=\u001b[39;49m\u001b[39mself\u001b[39;49m\u001b[39m.\u001b[39;49moptions\u001b[39m.\u001b[39;49mget(\u001b[39m\"\u001b[39;49m\u001b[39mmemory_map\u001b[39;49m\u001b[39m\"\u001b[39;49m, \u001b[39mFalse\u001b[39;49;00m),\n\u001b[0;32m   1224\u001b[0m     is_text\u001b[39m=\u001b[39;49mis_text,\n\u001b[0;32m   1225\u001b[0m     errors\u001b[39m=\u001b[39;49m\u001b[39mself\u001b[39;49m\u001b[39m.\u001b[39;49moptions\u001b[39m.\u001b[39;49mget(\u001b[39m\"\u001b[39;49m\u001b[39mencoding_errors\u001b[39;49m\u001b[39m\"\u001b[39;49m, \u001b[39m\"\u001b[39;49m\u001b[39mstrict\u001b[39;49m\u001b[39m\"\u001b[39;49m),\n\u001b[0;32m   1226\u001b[0m     storage_options\u001b[39m=\u001b[39;49m\u001b[39mself\u001b[39;49m\u001b[39m.\u001b[39;49moptions\u001b[39m.\u001b[39;49mget(\u001b[39m\"\u001b[39;49m\u001b[39mstorage_options\u001b[39;49m\u001b[39m\"\u001b[39;49m, \u001b[39mNone\u001b[39;49;00m),\n\u001b[0;32m   1227\u001b[0m )\n\u001b[0;32m   1228\u001b[0m \u001b[39massert\u001b[39;00m \u001b[39mself\u001b[39m\u001b[39m.\u001b[39mhandles \u001b[39mis\u001b[39;00m \u001b[39mnot\u001b[39;00m \u001b[39mNone\u001b[39;00m\n\u001b[0;32m   1229\u001b[0m f \u001b[39m=\u001b[39m \u001b[39mself\u001b[39m\u001b[39m.\u001b[39mhandles\u001b[39m.\u001b[39mhandle\n",
      "File \u001b[1;32mc:\\Users\\lunar\\AppData\\Local\\Programs\\Python\\Python39\\lib\\site-packages\\pandas\\io\\common.py:786\u001b[0m, in \u001b[0;36mget_handle\u001b[1;34m(path_or_buf, mode, encoding, compression, memory_map, is_text, errors, storage_options)\u001b[0m\n\u001b[0;32m    781\u001b[0m \u001b[39melif\u001b[39;00m \u001b[39misinstance\u001b[39m(handle, \u001b[39mstr\u001b[39m):\n\u001b[0;32m    782\u001b[0m     \u001b[39m# Check whether the filename is to be opened in binary mode.\u001b[39;00m\n\u001b[0;32m    783\u001b[0m     \u001b[39m# Binary mode does not support 'encoding' and 'newline'.\u001b[39;00m\n\u001b[0;32m    784\u001b[0m     \u001b[39mif\u001b[39;00m ioargs\u001b[39m.\u001b[39mencoding \u001b[39mand\u001b[39;00m \u001b[39m\"\u001b[39m\u001b[39mb\u001b[39m\u001b[39m\"\u001b[39m \u001b[39mnot\u001b[39;00m \u001b[39min\u001b[39;00m ioargs\u001b[39m.\u001b[39mmode:\n\u001b[0;32m    785\u001b[0m         \u001b[39m# Encoding\u001b[39;00m\n\u001b[1;32m--> 786\u001b[0m         handle \u001b[39m=\u001b[39m \u001b[39mopen\u001b[39;49m(\n\u001b[0;32m    787\u001b[0m             handle,\n\u001b[0;32m    788\u001b[0m             ioargs\u001b[39m.\u001b[39;49mmode,\n\u001b[0;32m    789\u001b[0m             encoding\u001b[39m=\u001b[39;49mioargs\u001b[39m.\u001b[39;49mencoding,\n\u001b[0;32m    790\u001b[0m             errors\u001b[39m=\u001b[39;49merrors,\n\u001b[0;32m    791\u001b[0m             newline\u001b[39m=\u001b[39;49m\u001b[39m\"\u001b[39;49m\u001b[39m\"\u001b[39;49m,\n\u001b[0;32m    792\u001b[0m         )\n\u001b[0;32m    793\u001b[0m     \u001b[39melse\u001b[39;00m:\n\u001b[0;32m    794\u001b[0m         \u001b[39m# Binary mode\u001b[39;00m\n\u001b[0;32m    795\u001b[0m         handle \u001b[39m=\u001b[39m \u001b[39mopen\u001b[39m(handle, ioargs\u001b[39m.\u001b[39mmode)\n",
      "\u001b[1;31mFileNotFoundError\u001b[0m: [Errno 2] No such file or directory: '/home/remote/iot/15min.csv'"
     ]
=======
     "data": {
      "text/plain": [
       "<matplotlib.legend.Legend at 0x7f3228d0d0>"
      ]
     },
     "execution_count": 6,
     "metadata": {},
     "output_type": "execute_result"
    },
    {
     "data": {
      "image/png": "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",
      "text/plain": [
       "<Figure size 432x288 with 1 Axes>"
      ]
     },
     "metadata": {
      "needs_background": "light"
     },
     "output_type": "display_data"
>>>>>>> 058935831d5e7b8e51055e2d735b3e749a6cca66
    }
   ],
   "source": [
    "dataset = loadDataset(\"/home/remote/iot/15min.csv\")\n",
    "\n",
    "# series to predict, in this case CO2\n",
    "series_co2 = fill_missing_values(TimeSeries.from_dataframe(dataset, 'timestamp', 'co2', fill_missing_dates=True, freq=\"10s\" ), fill='auto')\n",
    "\n",
    "# covariates to help predict the CO2 series\n",
    "covariates_livingroom_door_open = fill_missing_values(TimeSeries.from_dataframe(dataset, 'timestamp', 'livingroom_door_open', fill_missing_dates=True, freq=\"10s\"), fill='auto')\n",
    "covariates_balcony_door_open = fill_missing_values(TimeSeries.from_dataframe(dataset, 'timestamp', 'balcony_door_open', fill_missing_dates=True, freq=\"10s\"), fill='auto')\n",
    "covariates_livingroom_window_open = fill_missing_values(TimeSeries.from_dataframe(dataset, 'timestamp', 'livingroom_window_open', fill_missing_dates=True, freq=\"10s\"), fill='auto')\n",
    "covariates_kitchen_window_open = fill_missing_values(TimeSeries.from_dataframe(dataset, 'timestamp', 'kitchen_window_open', fill_missing_dates=True, freq=\"10s\"), fill='auto')\n",
    "covariates_temperature_indoors = fill_missing_values(TimeSeries.from_dataframe(dataset, 'timestamp', 'rtemperature', fill_missing_dates=True, freq=\"10s\"), fill='auto')\n",
    "covariates_humidity_indoors = fill_missing_values(TimeSeries.from_dataframe(dataset, 'timestamp', 'rhumidity', fill_missing_dates=True, freq=\"10s\"), fill='auto')\n",
    "covariates_temperature_outdoors = fill_missing_values(TimeSeries.from_dataframe(dataset, 'timestamp', 'temperature_outdoor', fill_missing_dates=True, freq=\"10s\"), fill='auto')\n",
    "covariates_humidity_outdoors = fill_missing_values(TimeSeries.from_dataframe(dataset, 'timestamp', 'humidity_outdoor', fill_missing_dates=True, freq=\"10s\"), fill='auto')\n",
    "\n",
    "scaler = Scaler()\n",
    "scaler_covariates = Scaler()\n",
    "series_co2_scaled = scaler.fit_transform(series_co2)\n",
    "\n",
    "covariates_livingroom_door_open_scaled, covariates_balcony_door_open_scaled, covariates_livingroom_window_open_scaled, covariates_kitchen_window_open_scaled, covariates_temperature_indoors_scaled, covariates_humidity_indoors_scaled, covariates_temperature_outdoors_scaled, covariates_humidity_outdoors_scaled = scaler_covariates.fit_transform([covariates_livingroom_door_open, covariates_balcony_door_open, covariates_livingroom_window_open, covariates_kitchen_window_open, covariates_temperature_indoors, covariates_humidity_indoors, covariates_temperature_outdoors, covariates_humidity_outdoors])\n",
    "\n",
    "all_covariates_scaled = covariates_livingroom_door_open_scaled.stack(covariates_balcony_door_open_scaled).stack(covariates_livingroom_window_open_scaled).stack(covariates_kitchen_window_open_scaled).stack(covariates_temperature_indoors_scaled).stack(covariates_humidity_indoors_scaled).stack(covariates_temperature_outdoors_scaled).stack(covariates_humidity_outdoors_scaled)\n",
    "series_co2_scaled.plot(label=\"CO2\")\n",
    "plt.legend()\n"
   ]
  },
  {
   "cell_type": "code",
   "execution_count": 7,
   "metadata": {
    "collapsed": false,
    "pycharm": {
     "name": "#%%\n"
    }
   },
   "outputs": [
    {
     "name": "stderr",
     "output_type": "stream",
     "text": [
      "/usr/local/lib/python3.9/dist-packages/pytorch_lightning/loops/utilities.py:92: PossibleUserWarning: `max_epochs` was not set. Setting it to 1000 epochs. To train without an epoch limit, set `max_epochs=-1`.\n",
      "  rank_zero_warn(\n",
      "2022-08-01 19:01:25 pytorch_lightning.utilities.rank_zero INFO: GPU available: False, used: False\n",
      "2022-08-01 19:01:25 pytorch_lightning.utilities.rank_zero INFO: TPU available: False, using: 0 TPU cores\n",
      "2022-08-01 19:01:25 pytorch_lightning.utilities.rank_zero INFO: IPU available: False, using: 0 IPUs\n",
      "2022-08-01 19:01:25 pytorch_lightning.utilities.rank_zero INFO: HPU available: False, using: 0 HPUs\n",
      "2022-08-01 19:01:25 main_logger ERROR: ValueError: All input series must have length >= `input_chunk_length` (90).\n"
     ]
    },
    {
     "ename": "ValueError",
     "evalue": "All input series must have length >= `input_chunk_length` (90).",
     "output_type": "error",
     "traceback": [
      "\u001b[0;31m---------------------------------------------------------------------------\u001b[0m",
      "\u001b[0;31mValueError\u001b[0m                                Traceback (most recent call last)",
      "\u001b[1;32m/home/remote/dev/indoor-air-monitor/machine-learning/predict-model.ipynb Cell 5\u001b[0m in \u001b[0;36m<cell line: 11>\u001b[0;34m()\u001b[0m\n\u001b[1;32m      <a href='vscode-notebook-cell:/home/remote/dev/indoor-air-monitor/machine-learning/predict-model.ipynb#ch0000004?line=6'>7</a>\u001b[0m past_covariates_part \u001b[39m=\u001b[39m all_covariates_scaled[position\u001b[39m-\u001b[39mpast:(position)]\n\u001b[1;32m      <a href='vscode-notebook-cell:/home/remote/dev/indoor-air-monitor/machine-learning/predict-model.ipynb#ch0000004?line=8'>9</a>\u001b[0m actual_co2 \u001b[39m=\u001b[39m series_co2_scaled[position\u001b[39m-\u001b[39mpast:(position)]\n\u001b[0;32m---> <a href='vscode-notebook-cell:/home/remote/dev/indoor-air-monitor/machine-learning/predict-model.ipynb#ch0000004?line=10'>11</a>\u001b[0m pred_list_scaled \u001b[39m=\u001b[39m model_co2\u001b[39m.\u001b[39;49mpredict(past, series\u001b[39m=\u001b[39;49mpast_series_co2_part, past_covariates\u001b[39m=\u001b[39;49mpast_covariates_part, trainer\u001b[39m=\u001b[39;49mTrainer(accelerator\u001b[39m=\u001b[39;49m\u001b[39m\"\u001b[39;49m\u001b[39mcpu\u001b[39;49m\u001b[39m\"\u001b[39;49m))\n\u001b[1;32m     <a href='vscode-notebook-cell:/home/remote/dev/indoor-air-monitor/machine-learning/predict-model.ipynb#ch0000004?line=12'>13</a>\u001b[0m pred_list \u001b[39m=\u001b[39m scaler\u001b[39m.\u001b[39minverse_transform(pred_list_scaled)\n\u001b[1;32m     <a href='vscode-notebook-cell:/home/remote/dev/indoor-air-monitor/machine-learning/predict-model.ipynb#ch0000004?line=13'>14</a>\u001b[0m series_air \u001b[39m=\u001b[39m scaler\u001b[39m.\u001b[39minverse_transform(series_co2_scaled)\n",
      "File \u001b[0;32m~/.local/lib/python3.9/site-packages/darts/utils/torch.py:112\u001b[0m, in \u001b[0;36mrandom_method.<locals>.decorator\u001b[0;34m(self, *args, **kwargs)\u001b[0m\n\u001b[1;32m    110\u001b[0m \u001b[39mwith\u001b[39;00m fork_rng():\n\u001b[1;32m    111\u001b[0m     manual_seed(\u001b[39mself\u001b[39m\u001b[39m.\u001b[39m_random_instance\u001b[39m.\u001b[39mrandint(\u001b[39m0\u001b[39m, high\u001b[39m=\u001b[39mMAX_TORCH_SEED_VALUE))\n\u001b[0;32m--> 112\u001b[0m     \u001b[39mreturn\u001b[39;00m decorated(\u001b[39mself\u001b[39;49m, \u001b[39m*\u001b[39;49margs, \u001b[39m*\u001b[39;49m\u001b[39m*\u001b[39;49mkwargs)\n",
      "File \u001b[0;32m~/.local/lib/python3.9/site-packages/darts/models/forecasting/torch_forecasting_model.py:1075\u001b[0m, in \u001b[0;36mTorchForecastingModel.predict\u001b[0;34m(self, n, series, past_covariates, future_covariates, trainer, batch_size, verbose, n_jobs, roll_size, num_samples, num_loader_workers, mc_dropout)\u001b[0m\n\u001b[1;32m   1061\u001b[0m     past_covariates, future_covariates \u001b[39m=\u001b[39m \u001b[39mself\u001b[39m\u001b[39m.\u001b[39mencoders\u001b[39m.\u001b[39mencode_inference(\n\u001b[1;32m   1062\u001b[0m         n\u001b[39m=\u001b[39mn,\n\u001b[1;32m   1063\u001b[0m         target\u001b[39m=\u001b[39mseries,\n\u001b[1;32m   1064\u001b[0m         past_covariate\u001b[39m=\u001b[39mpast_covariates,\n\u001b[1;32m   1065\u001b[0m         future_covariate\u001b[39m=\u001b[39mfuture_covariates,\n\u001b[1;32m   1066\u001b[0m     )\n\u001b[1;32m   1068\u001b[0m dataset \u001b[39m=\u001b[39m \u001b[39mself\u001b[39m\u001b[39m.\u001b[39m_build_inference_dataset(\n\u001b[1;32m   1069\u001b[0m     target\u001b[39m=\u001b[39mseries,\n\u001b[1;32m   1070\u001b[0m     n\u001b[39m=\u001b[39mn,\n\u001b[1;32m   1071\u001b[0m     past_covariates\u001b[39m=\u001b[39mpast_covariates,\n\u001b[1;32m   1072\u001b[0m     future_covariates\u001b[39m=\u001b[39mfuture_covariates,\n\u001b[1;32m   1073\u001b[0m )\n\u001b[0;32m-> 1075\u001b[0m predictions \u001b[39m=\u001b[39m \u001b[39mself\u001b[39;49m\u001b[39m.\u001b[39;49mpredict_from_dataset(\n\u001b[1;32m   1076\u001b[0m     n,\n\u001b[1;32m   1077\u001b[0m     dataset,\n\u001b[1;32m   1078\u001b[0m     trainer\u001b[39m=\u001b[39;49mtrainer,\n\u001b[1;32m   1079\u001b[0m     verbose\u001b[39m=\u001b[39;49mverbose,\n\u001b[1;32m   1080\u001b[0m     batch_size\u001b[39m=\u001b[39;49mbatch_size,\n\u001b[1;32m   1081\u001b[0m     n_jobs\u001b[39m=\u001b[39;49mn_jobs,\n\u001b[1;32m   1082\u001b[0m     roll_size\u001b[39m=\u001b[39;49mroll_size,\n\u001b[1;32m   1083\u001b[0m     num_samples\u001b[39m=\u001b[39;49mnum_samples,\n\u001b[1;32m   1084\u001b[0m     num_loader_workers\u001b[39m=\u001b[39;49mnum_loader_workers,\n\u001b[1;32m   1085\u001b[0m     mc_dropout\u001b[39m=\u001b[39;49mmc_dropout,\n\u001b[1;32m   1086\u001b[0m )\n\u001b[1;32m   1088\u001b[0m \u001b[39mreturn\u001b[39;00m predictions[\u001b[39m0\u001b[39m] \u001b[39mif\u001b[39;00m called_with_single_series \u001b[39melse\u001b[39;00m predictions\n",
      "File \u001b[0;32m~/.local/lib/python3.9/site-packages/darts/utils/torch.py:112\u001b[0m, in \u001b[0;36mrandom_method.<locals>.decorator\u001b[0;34m(self, *args, **kwargs)\u001b[0m\n\u001b[1;32m    110\u001b[0m \u001b[39mwith\u001b[39;00m fork_rng():\n\u001b[1;32m    111\u001b[0m     manual_seed(\u001b[39mself\u001b[39m\u001b[39m.\u001b[39m_random_instance\u001b[39m.\u001b[39mrandint(\u001b[39m0\u001b[39m, high\u001b[39m=\u001b[39mMAX_TORCH_SEED_VALUE))\n\u001b[0;32m--> 112\u001b[0m     \u001b[39mreturn\u001b[39;00m decorated(\u001b[39mself\u001b[39;49m, \u001b[39m*\u001b[39;49margs, \u001b[39m*\u001b[39;49m\u001b[39m*\u001b[39;49mkwargs)\n",
      "File \u001b[0;32m~/.local/lib/python3.9/site-packages/darts/models/forecasting/torch_forecasting_model.py:1162\u001b[0m, in \u001b[0;36mTorchForecastingModel.predict_from_dataset\u001b[0;34m(self, n, input_series_dataset, trainer, batch_size, verbose, n_jobs, roll_size, num_samples, num_loader_workers, mc_dropout)\u001b[0m\n\u001b[1;32m   1159\u001b[0m \u001b[39mself\u001b[39m\u001b[39m.\u001b[39m_verify_inference_dataset_type(input_series_dataset)\n\u001b[1;32m   1161\u001b[0m \u001b[39m# check that covariates and dimensions are matching what we had during training\u001b[39;00m\n\u001b[0;32m-> 1162\u001b[0m \u001b[39mself\u001b[39m\u001b[39m.\u001b[39m_verify_predict_sample(input_series_dataset[\u001b[39m0\u001b[39;49m])\n\u001b[1;32m   1164\u001b[0m \u001b[39mif\u001b[39;00m roll_size \u001b[39mis\u001b[39;00m \u001b[39mNone\u001b[39;00m:\n\u001b[1;32m   1165\u001b[0m     roll_size \u001b[39m=\u001b[39m \u001b[39mself\u001b[39m\u001b[39m.\u001b[39moutput_chunk_length\n",
      "File \u001b[0;32m~/.local/lib/python3.9/site-packages/darts/utils/data/inference_dataset.py:285\u001b[0m, in \u001b[0;36mPastCovariatesInferenceDataset.__getitem__\u001b[0;34m(self, idx)\u001b[0m\n\u001b[1;32m    276\u001b[0m \u001b[39mdef\u001b[39;00m \u001b[39m__getitem__\u001b[39m(\n\u001b[1;32m    277\u001b[0m     \u001b[39mself\u001b[39m, idx: \u001b[39mint\u001b[39m\n\u001b[1;32m    278\u001b[0m ) \u001b[39m-\u001b[39m\u001b[39m>\u001b[39m Tuple[\n\u001b[0;32m   (...)\u001b[0m\n\u001b[1;32m    283\u001b[0m     TimeSeries,\n\u001b[1;32m    284\u001b[0m ]:\n\u001b[0;32m--> 285\u001b[0m     \u001b[39mreturn\u001b[39;00m \u001b[39mself\u001b[39;49m\u001b[39m.\u001b[39;49mds[idx]\n",
      "File \u001b[0;32m~/.local/lib/python3.9/site-packages/darts/utils/data/inference_dataset.py:170\u001b[0m, in \u001b[0;36mGenericInferenceDataset.__getitem__\u001b[0;34m(self, idx)\u001b[0m\n\u001b[1;32m    160\u001b[0m \u001b[39mdef\u001b[39;00m \u001b[39m__getitem__\u001b[39m(\n\u001b[1;32m    161\u001b[0m     \u001b[39mself\u001b[39m, idx: \u001b[39mint\u001b[39m\n\u001b[1;32m    162\u001b[0m ) \u001b[39m-\u001b[39m\u001b[39m>\u001b[39m Tuple[\n\u001b[0;32m   (...)\u001b[0m\n\u001b[1;32m    167\u001b[0m     TimeSeries,\n\u001b[1;32m    168\u001b[0m ]:\n\u001b[1;32m    169\u001b[0m     target_series \u001b[39m=\u001b[39m \u001b[39mself\u001b[39m\u001b[39m.\u001b[39mtarget_series[idx]\n\u001b[0;32m--> 170\u001b[0m     raise_if_not(\n\u001b[1;32m    171\u001b[0m         \u001b[39mlen\u001b[39;49m(target_series) \u001b[39m>\u001b[39;49m\u001b[39m=\u001b[39;49m \u001b[39mself\u001b[39;49m\u001b[39m.\u001b[39;49minput_chunk_length,\n\u001b[1;32m    172\u001b[0m         \u001b[39mf\u001b[39;49m\u001b[39m\"\u001b[39;49m\u001b[39mAll input series must have length >= `input_chunk_length` (\u001b[39;49m\u001b[39m{\u001b[39;49;00m\u001b[39mself\u001b[39;49m\u001b[39m.\u001b[39;49minput_chunk_length\u001b[39m}\u001b[39;49;00m\u001b[39m).\u001b[39;49m\u001b[39m\"\u001b[39;49m,\n\u001b[1;32m    173\u001b[0m     )\n\u001b[1;32m    175\u001b[0m     \u001b[39m# extract past target values\u001b[39;00m\n\u001b[1;32m    176\u001b[0m     past_target \u001b[39m=\u001b[39m target_series\u001b[39m.\u001b[39mrandom_component_values(copy\u001b[39m=\u001b[39m\u001b[39mFalse\u001b[39;00m)[\n\u001b[1;32m    177\u001b[0m         \u001b[39m-\u001b[39m\u001b[39mself\u001b[39m\u001b[39m.\u001b[39minput_chunk_length :\n\u001b[1;32m    178\u001b[0m     ]\n",
      "File \u001b[0;32m~/.local/lib/python3.9/site-packages/darts/logging.py:80\u001b[0m, in \u001b[0;36mraise_if_not\u001b[0;34m(condition, message, logger)\u001b[0m\n\u001b[1;32m     78\u001b[0m \u001b[39mif\u001b[39;00m \u001b[39mnot\u001b[39;00m condition:\n\u001b[1;32m     79\u001b[0m     logger\u001b[39m.\u001b[39merror(\u001b[39m\"\u001b[39m\u001b[39mValueError: \u001b[39m\u001b[39m\"\u001b[39m \u001b[39m+\u001b[39m message)\n\u001b[0;32m---> 80\u001b[0m     \u001b[39mraise\u001b[39;00m \u001b[39mValueError\u001b[39;00m(message)\n",
      "\u001b[0;31mValueError\u001b[0m: All input series must have length >= `input_chunk_length` (90)."
     ]
    }
   ],
   "source": [
    "from pytorch_lightning import Trainer\n",
    "\n",
    "past = 90\n",
    "position = len(series_co2_scaled)\n",
    "\n",
    "past_series_co2_part = series_co2_scaled[position-past:(position)]\n",
    "past_covariates_part = all_covariates_scaled[position-past:(position)]\n",
    "\n",
    "actual_co2 = series_co2_scaled[position-past:(position)]\n",
    "\n",
    "pred_list_scaled = model_co2.predict(past, series=past_series_co2_part, past_covariates=past_covariates_part, trainer=Trainer(accelerator=\"cpu\"))\n",
    "\n",
    "pred_list = scaler.inverse_transform(pred_list_scaled)\n",
    "series_air = scaler.inverse_transform(series_co2_scaled)\n",
    "series_actual = scaler.inverse_transform(actual_co2)\n",
    "\n",
    "series_actual.plot(label=\"actual\", color=\"green\")\n",
    "pred_list.plot(label=\"forecast\", color=\"grey\")\n",
    "print(pred_list.last_value())\n",
    "plt.legend()"
   ]
  },
  {
   "cell_type": "code",
   "execution_count": 36,
   "metadata": {
    "collapsed": false,
    "pycharm": {
     "name": "#%%\n"
    }
   },
   "outputs": [
    {
     "name": "stderr",
     "output_type": "stream",
     "text": [
      "2022-08-01 12:47:49 darts.timeseries ERROR: ValueError: point (int) should be a valid index in series\n"
     ]
    },
    {
     "ename": "ValueError",
     "evalue": "point (int) should be a valid index in series",
     "output_type": "error",
     "traceback": [
      "\u001b[0;31m---------------------------------------------------------------------------\u001b[0m",
      "\u001b[0;31mValueError\u001b[0m                                Traceback (most recent call last)",
      "\u001b[1;32m/home/remote/dev/indoor-air-monitor/machine-learning/predict-model.ipynb Cell 6\u001b[0m in \u001b[0;36m<cell line: 3>\u001b[0;34m()\u001b[0m\n\u001b[1;32m      <a href='vscode-notebook-cell:/home/remote/dev/indoor-air-monitor/machine-learning/predict-model.ipynb#ch0000005?line=0'>1</a>\u001b[0m \u001b[39mfrom\u001b[39;00m \u001b[39mdarts\u001b[39;00m \u001b[39mimport\u001b[39;00m metrics\n\u001b[0;32m----> <a href='vscode-notebook-cell:/home/remote/dev/indoor-air-monitor/machine-learning/predict-model.ipynb#ch0000005?line=2'>3</a>\u001b[0m historical_fcast \u001b[39m=\u001b[39m model_co2\u001b[39m.\u001b[39;49mhistorical_forecasts(\n\u001b[1;32m      <a href='vscode-notebook-cell:/home/remote/dev/indoor-air-monitor/machine-learning/predict-model.ipynb#ch0000005?line=3'>4</a>\u001b[0m  series\u001b[39m=\u001b[39;49mpast_series_co2_part, past_covariates\u001b[39m=\u001b[39;49mpast_covariates_part, start\u001b[39m=\u001b[39;49m\u001b[39m90\u001b[39;49m, forecast_horizon\u001b[39m=\u001b[39;49m\u001b[39m90\u001b[39;49m, verbose\u001b[39m=\u001b[39;49m\u001b[39mFalse\u001b[39;49;00m, retrain\u001b[39m=\u001b[39;49m\u001b[39mFalse\u001b[39;49;00m, overlap_end\u001b[39m=\u001b[39;49m\u001b[39mFalse\u001b[39;49;00m\n\u001b[1;32m      <a href='vscode-notebook-cell:/home/remote/dev/indoor-air-monitor/machine-learning/predict-model.ipynb#ch0000005?line=4'>5</a>\u001b[0m )\n\u001b[1;32m      <a href='vscode-notebook-cell:/home/remote/dev/indoor-air-monitor/machine-learning/predict-model.ipynb#ch0000005?line=6'>7</a>\u001b[0m series_co2_real \u001b[39m=\u001b[39m scaler\u001b[39m.\u001b[39minverse_transform(past_series_co2_part[\u001b[39m180\u001b[39m:])\n\u001b[1;32m      <a href='vscode-notebook-cell:/home/remote/dev/indoor-air-monitor/machine-learning/predict-model.ipynb#ch0000005?line=7'>8</a>\u001b[0m historical_fcast_real \u001b[39m=\u001b[39m scaler\u001b[39m.\u001b[39minverse_transform(historical_fcast)\n",
      "File \u001b[0;32m~/.local/lib/python3.9/site-packages/darts/utils/utils.py:171\u001b[0m, in \u001b[0;36m_with_sanity_checks.<locals>.decorator.<locals>.sanitized_method\u001b[0;34m(self, *args, **kwargs)\u001b[0m\n\u001b[1;32m    167\u001b[0m             only_args\u001b[39m.\u001b[39mpop(param_name)\n\u001b[1;32m    169\u001b[0m     only_args\u001b[39m.\u001b[39mpop(\u001b[39m\"\u001b[39m\u001b[39mself\u001b[39m\u001b[39m\"\u001b[39m)\n\u001b[0;32m--> 171\u001b[0m     \u001b[39mgetattr\u001b[39;49m(\u001b[39mself\u001b[39;49m, sanity_check_method)(\u001b[39m*\u001b[39;49monly_args\u001b[39m.\u001b[39;49mvalues(), \u001b[39m*\u001b[39;49m\u001b[39m*\u001b[39;49monly_kwargs)\n\u001b[1;32m    172\u001b[0m \u001b[39mreturn\u001b[39;00m method_to_sanitize(\u001b[39mself\u001b[39m, \u001b[39m*\u001b[39monly_args\u001b[39m.\u001b[39mvalues(), \u001b[39m*\u001b[39m\u001b[39m*\u001b[39monly_kwargs)\n",
      "File \u001b[0;32m~/.local/lib/python3.9/site-packages/darts/models/forecasting/forecasting_model.py:277\u001b[0m, in \u001b[0;36mForecastingModel._historical_forecasts_sanity_checks\u001b[0;34m(self, *args, **kwargs)\u001b[0m\n\u001b[1;32m    275\u001b[0m \u001b[39m# parse args and kwargs\u001b[39;00m\n\u001b[1;32m    276\u001b[0m series \u001b[39m=\u001b[39m args[\u001b[39m0\u001b[39m]\n\u001b[0;32m--> 277\u001b[0m _historical_forecasts_general_checks(series, kwargs)\n",
      "File \u001b[0;32m~/.local/lib/python3.9/site-packages/darts/utils/utils.py:241\u001b[0m, in \u001b[0;36m_historical_forecasts_general_checks\u001b[0;34m(series, kwargs)\u001b[0m\n\u001b[1;32m    233\u001b[0m     \u001b[39melse\u001b[39;00m:\n\u001b[1;32m    234\u001b[0m         raise_log(\n\u001b[1;32m    235\u001b[0m             \u001b[39mTypeError\u001b[39;00m(\n\u001b[1;32m    236\u001b[0m                 \u001b[39m\"\u001b[39m\u001b[39m`start` needs to be either `float`, `int` or `pd.Timestamp`\u001b[39m\u001b[39m\"\u001b[39m\n\u001b[1;32m    237\u001b[0m             ),\n\u001b[1;32m    238\u001b[0m             logger,\n\u001b[1;32m    239\u001b[0m         )\n\u001b[0;32m--> 241\u001b[0m start \u001b[39m=\u001b[39m series\u001b[39m.\u001b[39;49mget_timestamp_at_point(n\u001b[39m.\u001b[39;49mstart)\n\u001b[1;32m    243\u001b[0m \u001b[39m# check start parameter\u001b[39;00m\n\u001b[1;32m    244\u001b[0m raise_if(\n\u001b[1;32m    245\u001b[0m     start \u001b[39m==\u001b[39m series\u001b[39m.\u001b[39mend_time(),\n\u001b[1;32m    246\u001b[0m     \u001b[39m\"\u001b[39m\u001b[39m`start` timestamp is the last timestamp of the series\u001b[39m\u001b[39m\"\u001b[39m,\n\u001b[1;32m    247\u001b[0m     logger,\n\u001b[1;32m    248\u001b[0m )\n",
      "File \u001b[0;32m~/.local/lib/python3.9/site-packages/darts/timeseries.py:1992\u001b[0m, in \u001b[0;36mTimeSeries.get_timestamp_at_point\u001b[0;34m(self, point)\u001b[0m\n\u001b[1;32m   1975\u001b[0m \u001b[39mdef\u001b[39;00m \u001b[39mget_timestamp_at_point\u001b[39m(\n\u001b[1;32m   1976\u001b[0m     \u001b[39mself\u001b[39m, point: Union[pd\u001b[39m.\u001b[39mTimestamp, \u001b[39mfloat\u001b[39m, \u001b[39mint\u001b[39m]\n\u001b[1;32m   1977\u001b[0m ) \u001b[39m-\u001b[39m\u001b[39m>\u001b[39m pd\u001b[39m.\u001b[39mTimestamp:\n\u001b[1;32m   1978\u001b[0m     \u001b[39m\"\"\"\u001b[39;00m\n\u001b[1;32m   1979\u001b[0m \u001b[39m    Converts a point into a pandas.Timestamp (if Datetime-indexed) or into an integer (if Int64-indexed).\u001b[39;00m\n\u001b[1;32m   1980\u001b[0m \n\u001b[0;32m   (...)\u001b[0m\n\u001b[1;32m   1990\u001b[0m \u001b[39m        is present in the series time index, otherwise will raise a ValueError.\u001b[39;00m\n\u001b[1;32m   1991\u001b[0m \u001b[39m    \"\"\"\u001b[39;00m\n\u001b[0;32m-> 1992\u001b[0m     idx \u001b[39m=\u001b[39m \u001b[39mself\u001b[39;49m\u001b[39m.\u001b[39;49mget_index_at_point(point)\n\u001b[1;32m   1993\u001b[0m     \u001b[39mreturn\u001b[39;00m \u001b[39mself\u001b[39m\u001b[39m.\u001b[39m_time_index[idx]\n",
      "File \u001b[0;32m~/.local/lib/python3.9/site-packages/darts/timeseries.py:1945\u001b[0m, in \u001b[0;36mTimeSeries.get_index_at_point\u001b[0;34m(self, point, after)\u001b[0m\n\u001b[1;32m   1943\u001b[0m     point_index \u001b[39m=\u001b[39m \u001b[39mint\u001b[39m((\u001b[39mlen\u001b[39m(\u001b[39mself\u001b[39m) \u001b[39m-\u001b[39m \u001b[39m1\u001b[39m) \u001b[39m*\u001b[39m point)\n\u001b[1;32m   1944\u001b[0m \u001b[39melif\u001b[39;00m \u001b[39misinstance\u001b[39m(point, (\u001b[39mint\u001b[39m, np\u001b[39m.\u001b[39mint64)):\n\u001b[0;32m-> 1945\u001b[0m     raise_if(\n\u001b[1;32m   1946\u001b[0m         point \u001b[39mnot\u001b[39;49;00m \u001b[39min\u001b[39;49;00m \u001b[39mrange\u001b[39;49m(\u001b[39mlen\u001b[39;49m(\u001b[39mself\u001b[39;49m)),\n\u001b[1;32m   1947\u001b[0m         \u001b[39m\"\u001b[39;49m\u001b[39mpoint (int) should be a valid index in series\u001b[39;49m\u001b[39m\"\u001b[39;49m,\n\u001b[1;32m   1948\u001b[0m         logger,\n\u001b[1;32m   1949\u001b[0m     )\n\u001b[1;32m   1950\u001b[0m     point_index \u001b[39m=\u001b[39m point\n\u001b[1;32m   1951\u001b[0m \u001b[39melif\u001b[39;00m \u001b[39misinstance\u001b[39m(point, pd\u001b[39m.\u001b[39mTimestamp):\n",
      "File \u001b[0;32m~/.local/lib/python3.9/site-packages/darts/logging.py:106\u001b[0m, in \u001b[0;36mraise_if\u001b[0;34m(condition, message, logger)\u001b[0m\n\u001b[1;32m     83\u001b[0m \u001b[39mdef\u001b[39;00m \u001b[39mraise_if\u001b[39m(\n\u001b[1;32m     84\u001b[0m     condition: \u001b[39mbool\u001b[39m,\n\u001b[1;32m     85\u001b[0m     message: \u001b[39mstr\u001b[39m \u001b[39m=\u001b[39m \u001b[39m\"\u001b[39m\u001b[39m\"\u001b[39m,\n\u001b[1;32m     86\u001b[0m     logger: logging\u001b[39m.\u001b[39mLogger \u001b[39m=\u001b[39m get_logger(\u001b[39m\"\u001b[39m\u001b[39mmain_logger\u001b[39m\u001b[39m\"\u001b[39m),\n\u001b[1;32m     87\u001b[0m ):\n\u001b[1;32m     88\u001b[0m     \u001b[39m\"\"\"\u001b[39;00m\n\u001b[1;32m     89\u001b[0m \u001b[39m    Checks provided boolean condition and raises a ValueError if it evaluates to True.\u001b[39;00m\n\u001b[1;32m     90\u001b[0m \u001b[39m    It logs the error to the provided logger before raising it.\u001b[39;00m\n\u001b[0;32m   (...)\u001b[0m\n\u001b[1;32m    104\u001b[0m \u001b[39m        if `condition` is satisfied\u001b[39;00m\n\u001b[1;32m    105\u001b[0m \u001b[39m    \"\"\"\u001b[39;00m\n\u001b[0;32m--> 106\u001b[0m     raise_if_not(\u001b[39mnot\u001b[39;49;00m condition, message, logger)\n",
      "File \u001b[0;32m~/.local/lib/python3.9/site-packages/darts/logging.py:80\u001b[0m, in \u001b[0;36mraise_if_not\u001b[0;34m(condition, message, logger)\u001b[0m\n\u001b[1;32m     78\u001b[0m \u001b[39mif\u001b[39;00m \u001b[39mnot\u001b[39;00m condition:\n\u001b[1;32m     79\u001b[0m     logger\u001b[39m.\u001b[39merror(\u001b[39m\"\u001b[39m\u001b[39mValueError: \u001b[39m\u001b[39m\"\u001b[39m \u001b[39m+\u001b[39m message)\n\u001b[0;32m---> 80\u001b[0m     \u001b[39mraise\u001b[39;00m \u001b[39mValueError\u001b[39;00m(message)\n",
      "\u001b[0;31mValueError\u001b[0m: point (int) should be a valid index in series"
     ]
    }
   ],
   "source": [
    "from darts import metrics\n",
    "\n",
    "historical_fcast = model_co2.historical_forecasts(\n",
    " series=past_series_co2_part, past_covariates=past_covariates_part, start=90, forecast_horizon=90, verbose=False, retrain=False, overlap_end=False\n",
    ")\n",
    "\n",
    "series_co2_real = scaler.inverse_transform(past_series_co2_part[180:])\n",
    "historical_fcast_real = scaler.inverse_transform(historical_fcast)\n",
    "\n",
    "series_co2_real.plot(label=\"actual\")\n",
    "historical_fcast_real.plot(label=\"predicted\")\n",
    "\n",
    "print(metrics.metrics.mae(series_co2_real, historical_fcast_real))"
   ]
  }
 ],
 "metadata": {
  "kernelspec": {
   "display_name": "Python 3.9.2 64-bit",
   "language": "python",
   "name": "python3"
  },
  "language_info": {
   "codemirror_mode": {
    "name": "ipython",
    "version": 3
   },
   "file_extension": ".py",
   "mimetype": "text/x-python",
   "name": "python",
   "nbconvert_exporter": "python",
   "pygments_lexer": "ipython3",
   "version": "3.9.2"
  },
  "orig_nbformat": 4,
  "vscode": {
   "interpreter": {
    "hash": "31f2aee4e71d21fbe5cf8b01ff0e069b9275f58929596ceb00d14d90e3e16cd6"
   }
  }
 },
 "nbformat": 4,
 "nbformat_minor": 2
}
